{
 "cells": [
  {
   "cell_type": "markdown",
   "metadata": {},
   "source": [
    "# Agenda\n",
    "\n",
    "1. Q&A\n",
    "2. Loops\n",
    "    - `for` loops\n",
    "    - How loops work behind the scenes\n",
    "    - Controlling our loops with `break` and `continue`\n",
    "    - The index (or lack of one)\n",
    "    - `while` loops -- what they're for\n",
    "3. Lists\n",
    "    - How are lists similar to (and different from) strings?\n",
    "    - Lists are mutable\n",
    "    - Retrieving from and modifying and updating lists in various ways\n",
    "    - Looping over lists\n",
    "4. Turning strings into lists, and vice versa\n",
    "    - The `str.split` method, which gives you a list from a string\n",
    "    - The `str.join` method, which gives you a string from a list of strings\n",
    "5. Tuples\n",
    "    - How they fit into our existing family of data structures\n",
    "    - How they're similar to / different from strings and lists\n",
    "    - Why do tuples exist? Where would we use them?\n",
    "    - Tuple unpacking "
   ]
  },
  {
   "cell_type": "markdown",
   "metadata": {},
   "source": [
    "# Functions vs. methods\n",
    "\n",
    "Both of these are types of verbs in Python. The difference is whether they are attached to a value (i.e., a method) or whether they're free floating (i.e., functions).\n",
    "\n",
    "Most of the verbs in Python are actually methods, and we'll see list methods today! \n",
    "\n",
    "There are a number of functions, though, and those tend to be the most common things we want to do, such as `print` and `input`.\n",
    "\n",
    "In use, we invoke a function and pass zero or more arguments in its `()`:\n",
    "\n",
    "    myfunc()\n",
    "    myfunc('a', 'b', 'c')\n",
    "    myfunc(10, 20, 30)\n",
    "\n",
    "There "
   ]
  }
 ],
 "metadata": {
  "kernelspec": {
   "display_name": "Python 3 (ipykernel)",
   "language": "python",
   "name": "python3"
  },
  "language_info": {
   "codemirror_mode": {
    "name": "ipython",
    "version": 3
   },
   "file_extension": ".py",
   "mimetype": "text/x-python",
   "name": "python",
   "nbconvert_exporter": "python",
   "pygments_lexer": "ipython3",
   "version": "3.13.5"
  }
 },
 "nbformat": 4,
 "nbformat_minor": 4
}
