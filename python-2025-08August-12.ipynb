{
 "cells": [
  {
   "cell_type": "markdown",
   "metadata": {},
   "source": [
    "# Agenda\n",
    "\n",
    "1. Q&A\n",
    "2. Loops\n",
    "    - `for` loops\n",
    "    - How loops work behind the scenes\n",
    "    - Controlling our loops with `break` and `continue`\n",
    "    - The index (or lack of one)\n",
    "    - `while` loops -- what they're for\n",
    "3. Lists\n",
    "    - How are lists similar to (and different from) strings?\n",
    "    - Lists are mutable\n",
    "    - Retrieving from and modifying and updating lists in various ways\n",
    "    - Looping over lists\n",
    "4. Turning strings into lists, and vice versa\n",
    "    - The `str.split` method, which gives you a list from a string\n",
    "    - The `str.join` method, which gives you a string from a list of strings\n",
    "5. Tuples\n",
    "    - How they fit into our existing family of data structures\n",
    "    - How they're similar to / different from strings and lists\n",
    "    - Why do tuples exist? Where would we use them?\n",
    "    - Tuple unpacking "
   ]
  },
  {
   "cell_type": "markdown",
   "metadata": {},
   "source": [
    "# Functions vs. methods\n",
    "\n",
    "Both of these are types of verbs in Python. The difference is whether they are attached to a value (i.e., a method) or whether they're free floating (i.e., functions).\n",
    "\n",
    "Most of the verbs in Python are actually methods, and we'll see list methods today! \n",
    "\n",
    "There are a number of functions, though, and those tend to be the most common things we want to do, such as `print` and `input`.\n",
    "\n",
    "In use, we invoke a function and pass zero or more arguments in its `()`:\n",
    "\n",
    "    myfunc()\n",
    "    myfunc('a', 'b', 'c')\n",
    "    myfunc(10, 20, 30)\n",
    "\n",
    "There are functions, and we use them, and we invoke them this way.\n",
    "\n",
    "HOWEVER, we might make the mistake of invoking a function with the wrong kind of argument value.\n",
    "\n",
    "    len('abcd')  # this returns 4\n",
    "    len(1234)    # this gives us an error, because integers have no \"len\"\n",
    "\n",
    "Methods are tightly coupled with a data type, reducing the chance that we'll have an error of this sort. We always invoke methods after a `.`, which itself comes after a value (either the value itself or a variable):\n",
    "\n",
    "    data.method()\n",
    "    data.method('a', 'b', 'c')\n",
    "    data.method(10)\n",
    "\n",
    "If the method isn't appropriate for the value, then we'll get an error saying that it doesn't exist. We won't get the \"inappropriate\" or \"bad value\" sort of error.\n",
    "\n",
    "Methods come from object-oriented programming, where we try to organize our code such that data and functions (methods) are defined together. That's an organizational technique."
   ]
  },
  {
   "cell_type": "markdown",
   "metadata": {},
   "source": [
    "A function's documentation will always tell you:\n",
    "\n",
    "- What inputs does it expect?\n",
    "- What does it change or do?\n",
    "- What does it return?\n",
    "\n",
    "You can check the Python documentation at https://docs.python.org, and read about any of these functions. In Jupyter, we actually have a special `help` function that we can invoke."
   ]
  },
  {
   "cell_type": "markdown",
   "metadata": {},
   "source": [
    "# Loops\n",
    "\n",
    "One of the most important rules in programming is, \"Don't repeat yourself!\" Which we shorten to \"DRY\".\n",
    "\n",
    "Computers are very dumb, but very fast. If we can have the computer repeat things for us, rather than us repeat our instructions, that's great for everyone."
   ]
  },
  {
   "cell_type": "code",
   "execution_count": 2,
   "metadata": {},
   "outputs": [
    {
     "name": "stdout",
     "output_type": "stream",
     "text": [
      "a\n",
      "b\n",
      "c\n",
      "d\n",
      "e\n"
     ]
    }
   ],
   "source": [
    "s = 'abcde'\n",
    "\n",
    "# I want to print every character in s\n",
    "\n",
    "print(s[0])\n",
    "print(s[1])\n",
    "print(s[2])\n",
    "print(s[3])\n",
    "print(s[4])"
   ]
  },
  {
   "cell_type": "markdown",
   "metadata": {},
   "source": [
    "# Unfortunately, this works!\n",
    "\n",
    "We got the right answer -- but we had to write five lines of code just to get those five characters printed. Why did we have to work hard, when we could have asked the computer to work hard?\n",
    "\n",
    "A loop allows us to give such instructions. We tell the computer: Do this `x` times, often with a bit of variation. Loops exist in every programming language.\n",
    "\n",
    "Python has two kinds of loops:\n",
    "\n",
    "- `for`\n",
    "- `while`\n",
    "\n",
    "That's it!\n",
    "\n",
    "I'm going to show you a `for` loop now that does what our previous code (in cell 2) did, printing each letter of `s`. Then we'll talk about what's happening behind the scenes, and also the syntax we need to use to run a `for` loop."
   ]
  },
  {
   "cell_type": "code",
   "execution_count": 3,
   "metadata": {},
   "outputs": [
    {
     "name": "stdout",
     "output_type": "stream",
     "text": [
      "Start\n",
      "a\n",
      "b\n",
      "c\n",
      "d\n",
      "e\n",
      "Done\n"
     ]
    }
   ],
   "source": [
    "s = 'abcde'\n",
    "\n",
    "print('Start')\n",
    "for one_character in s:\n",
    "    print(one_character)\n",
    "print('Done')    "
   ]
  },
  {
   "cell_type": "markdown",
   "metadata": {},
   "source": [
    "# Syntax of a `for` loop\n",
    "\n",
    "1. We start with `for`\n",
    "2. After `for`, we have a *loop variable*. The name of this variable has *ZERO* influence on the way the loop works. I chose a variable name that I thought would be appropriate.\n",
    "3. After the loop variable, we have the word `in`\n",
    "4. Finally, at the end of the line, we have the value over which we want to iterate, followed by `:`. (As you know, a `:` means that we'll have an indented block on the next line.)\n",
    "5. The indented block can be of any length, and can include *any* Python code.\n",
    "6. When the indententation ends, the `for` loop is over, and the code continues afterwards."
   ]
  },
  {
   "cell_type": "markdown",
   "metadata": {},
   "source": [
    "# What's really going on here?\n",
    "\n",
    "1. `for` turns to the value at the end of the line (here, it's `s`), and asks: Are you iterable? Meaning, do you know how to behave inside of a `for` loop?\n",
    "    - If not, then the loop ends with an error message, saying the value is not \"iterable.\"\n",
    "2. `for` says: If you're iterable, then give me your next value.\n",
    "    - If there is a next value, it is assigned to our loop variable, `one_character`\n",
    "    - If there is no next value, then the loop exits right away, and we continue with our program following the loop body.\n",
    "3. The loop body executes, with `one_character` (our loop variable) defined.\n",
    "4. We go back to step 2"
   ]
  },
  {
   "cell_type": "markdown",
   "metadata": {},
   "source": [
    "# This is very much unlike other languages\n",
    "\n",
    "- Where's the index?\n",
    "- How do I know how many values I'll get?\n",
    "- How do I know what values I'll get -- their types, for example?"
   ]
  },
  {
   "cell_type": "markdown",
   "metadata": {},
   "source": [
    "# Exercise: Vowels, digits, and others\n",
    "\n",
    "1. Define three variables -- `vowels`, `digits`, and `others` -- all to be 0.\n",
    "2. Ask the user to enter some text.\n",
    "3. Go through that text string, one character at a time:\n",
    "    - If the character is a vowel, add 1 to `vowels`\n",
    "    - If the character is a digit, add 1 to `digits`\n",
    "    - In other cases, add 1 to `others`\n",
    "\n",
    "Example:\n",
    "\n",
    "    Enter text: hello!! 123\n",
    "    vowels: 2\n",
    "    digits: 3\n",
    "    others: 6"
   ]
  },
  {
   "cell_type": "code",
   "execution_count": 4,
   "metadata": {},
   "outputs": [
    {
     "name": "stdin",
     "output_type": "stream",
     "text": [
      "Enter text:  hello!! 123\n"
     ]
    },
    {
     "name": "stdout",
     "output_type": "stream",
     "text": [
      "vowels = 2\n",
      "digits = 3\n",
      "others = 6\n"
     ]
    }
   ],
   "source": [
    "vowels = 0\n",
    "digits = 0\n",
    "others = 0\n",
    "\n",
    "text = input('Enter text: ').strip()  \n",
    "\n",
    "for one_character in text:         # iterate over text, one character at a time\n",
    "    if one_character in 'aeiou':   # is this character a vowel?\n",
    "        vowels += 1                #   if so, add 1 to vowels\n",
    "    elif one_character.isdigit():  # is this character a digit?\n",
    "        digits += 1\n",
    "    else:\n",
    "        others += 1                # in all other cases, add 1 to others\n",
    "\n",
    "print(f'vowels = {vowels}')        \n",
    "print(f'digits = {digits}')        \n",
    "print(f'others = {others}')        "
   ]
  },
  {
   "cell_type": "code",
   "execution_count": 5,
   "metadata": {},
   "outputs": [
    {
     "ename": "TypeError",
     "evalue": "'int' object is not iterable",
     "output_type": "error",
     "traceback": [
      "\u001b[31m---------------------------------------------------------------------------\u001b[39m",
      "\u001b[31mTypeError\u001b[39m                                 Traceback (most recent call last)",
      "\u001b[36mCell\u001b[39m\u001b[36m \u001b[39m\u001b[32mIn[5]\u001b[39m\u001b[32m, line 3\u001b[39m\n\u001b[32m      1\u001b[39m \u001b[38;5;66;03m# I'm teaching Python, so I'm in a fantastic mood!!!\u001b[39;00m\n\u001b[32m----> \u001b[39m\u001b[32m3\u001b[39m \u001b[38;5;28;43;01mfor\u001b[39;49;00m\u001b[43m \u001b[49m\u001b[43mcounter\u001b[49m\u001b[43m \u001b[49m\u001b[38;5;129;43;01min\u001b[39;49;00m\u001b[43m \u001b[49m\u001b[32;43m3\u001b[39;49m\u001b[43m:\u001b[49m\n\u001b[32m      4\u001b[39m \u001b[43m    \u001b[49m\u001b[38;5;28;43mprint\u001b[39;49m\u001b[43m(\u001b[49m\u001b[33;43m'\u001b[39;49m\u001b[33;43mHooray!\u001b[39;49m\u001b[33;43m'\u001b[39;49m\u001b[43m)\u001b[49m\n",
      "\u001b[31mTypeError\u001b[39m: 'int' object is not iterable"
     ]
    }
   ],
   "source": [
    "# I'm teaching Python, so I'm in a fantastic mood!!!\n",
    "\n",
    "for counter in 3:\n",
    "    print('Hooray!')"
   ]
  },
  {
   "cell_type": "code",
   "execution_count": 7,
   "metadata": {},
   "outputs": [
    {
     "name": "stdout",
     "output_type": "stream",
     "text": [
      "0 Hooray!\n",
      "1 Hooray!\n",
      "2 Hooray!\n"
     ]
    }
   ],
   "source": [
    "# what can we do about this? How can we iterate a certain number of times?\n",
    "\n",
    "# we will use the range() function\n",
    "# when we use range(n), we get n iterations of our loop\n",
    "# range is designed to be used in a for loop\n",
    "\n",
    "for counter in range(3):\n",
    "    print(f'{counter} Hooray!')"
   ]
  },
  {
   "cell_type": "markdown",
   "metadata": {},
   "source": [
    "# `range(n)`\n",
    "\n",
    "`range` exists so that we can run a `for` loop a known number of times. We hand `range` an integer, `n`, as an argument. We will then get `n` iterations in our `for` loop.\n",
    "\n",
    "The numbering starts at 0! So if we have 3 iterations, we'll get the numbers 0, 1, and 2."
   ]
  },
  {
   "cell_type": "markdown",
   "metadata": {},
   "source": [
    "# Exercise: Name triangles\n",
    "\n",
    "1. Ask the user to enter their name, and store it in the variable `name`.\n",
    "2. Print the name on multiple lines. If the name is `n` characters long, then it'll be printed on `n` lines:\n",
    "    - On the first line, print just the first character\n",
    "    - On the second line, print the first 2\n",
    "    - On the 3rd line, print the first 3\n",
    "    - ...\n",
    "    - On the `n`th line, print the entire name\n",
    "\n",
    "Remember:\n",
    "- You can use `range` on any integer -- `range(n)` is used in `for` loops to iterate `n` times\n",
    "- You can use `len` to get the number of characters in a string -- `len` returns an integer\n",
    "- You can use a slice (`[start:end]`) to get a subset of characters in a string\n",
    "- It turns out that if a slice boundary is outside of the legal indexes for a string, it'll still work.\n",
    "- Watch out for off by 1 errors!"
   ]
  },
  {
   "cell_type": "code",
   "execution_count": 8,
   "metadata": {},
   "outputs": [
    {
     "name": "stdin",
     "output_type": "stream",
     "text": [
      "Enter your name:  Reuven\n"
     ]
    },
    {
     "name": "stdout",
     "output_type": "stream",
     "text": [
      "R\n",
      "Re\n",
      "Reu\n",
      "Reuv\n",
      "Reuve\n",
      "Reuven\n"
     ]
    }
   ],
   "source": [
    "name = input('Enter your name: ').strip()\n",
    "\n",
    "print(name[:1])\n",
    "print(name[:2])\n",
    "print(name[:3])\n",
    "print(name[:4])\n",
    "print(name[:5])\n",
    "print(name[:6])"
   ]
  },
  {
   "cell_type": "code",
   "execution_count": 13,
   "metadata": {},
   "outputs": [
    {
     "name": "stdin",
     "output_type": "stream",
     "text": [
      "Enter your name:  hellothisisnotanamebutveryamusing\n"
     ]
    },
    {
     "name": "stdout",
     "output_type": "stream",
     "text": [
      "h\n",
      "he\n",
      "hel\n",
      "hell\n",
      "hello\n",
      "hellot\n",
      "helloth\n",
      "hellothi\n",
      "hellothis\n",
      "hellothisi\n",
      "hellothisis\n",
      "hellothisisn\n",
      "hellothisisno\n",
      "hellothisisnot\n",
      "hellothisisnota\n",
      "hellothisisnotan\n",
      "hellothisisnotana\n",
      "hellothisisnotanam\n",
      "hellothisisnotaname\n",
      "hellothisisnotanameb\n",
      "hellothisisnotanamebu\n",
      "hellothisisnotanamebut\n",
      "hellothisisnotanamebutv\n",
      "hellothisisnotanamebutve\n",
      "hellothisisnotanamebutver\n",
      "hellothisisnotanamebutvery\n",
      "hellothisisnotanamebutverya\n",
      "hellothisisnotanamebutveryam\n",
      "hellothisisnotanamebutveryamu\n",
      "hellothisisnotanamebutveryamus\n",
      "hellothisisnotanamebutveryamusi\n",
      "hellothisisnotanamebutveryamusin\n",
      "hellothisisnotanamebutveryamusing\n"
     ]
    }
   ],
   "source": [
    "name = input('Enter your name: ').strip()\n",
    "\n",
    "for max_slice_index in range(len(name)):\n",
    "    print(name[:max_slice_index+1])"
   ]
  },
  {
   "cell_type": "markdown",
   "metadata": {},
   "source": [
    "# Next up\n",
    "\n",
    "1. Indexes (or not)\n",
    "2. Controlling our loops\n",
    "3. `while` loops"
   ]
  },
  {
   "cell_type": "markdown",
   "metadata": {},
   "source": [
    "# Indexes\n",
    "\n",
    "In many programming languages (especially C, but not only), a `for` loop cannot work the way it does in Python, getting one character at a time. Rather, we start at 0, and then keep going up with each iteration, adding 1 (or whatever we want) to the index, until we get to the maximum for that string. We use the index to get the character. \n",
    "\n",
    "In Python, we get the character -- so we don't need the index. There isn't a way to get the index and just the index.\n",
    "\n",
    "But... sometimes the index can come in handy. Maybe I want to print all of the characters in a string along with their indexes. How can I do that?"
   ]
  },
  {
   "cell_type": "code",
   "execution_count": 15,
   "metadata": {},
   "outputs": [
    {
     "name": "stdout",
     "output_type": "stream",
     "text": [
      "0: a\n",
      "1: b\n",
      "2: c\n",
      "3: d\n",
      "4: e\n"
     ]
    }
   ],
   "source": [
    "# option 1: the manual way\n",
    "\n",
    "s = 'abcde'\n",
    "index = 0    # set a new variable, index, to 0\n",
    "\n",
    "for one_character in s:\n",
    "    print(f'{index}: {one_character}')\n",
    "    index += 1    # manually increment index by 1 for each new character we get"
   ]
  },
  {
   "cell_type": "code",
   "execution_count": 16,
   "metadata": {},
   "outputs": [
    {
     "name": "stdout",
     "output_type": "stream",
     "text": [
      "0: a\n",
      "1: b\n",
      "2: c\n",
      "3: d\n",
      "4: e\n"
     ]
    }
   ],
   "source": [
    "# option 2, the automatic way with \"enumerate\"\n",
    "\n",
    "# when we use enumerate, we invoke it on an existing\n",
    "# iterable value, such as a string. We then iterate not\n",
    "# over the original value, but rather over enumerate(value).\n",
    "# this gives us TWO values with each iteration, the\n",
    "# index (which is calculated by enumerate) and the original value\n",
    "\n",
    "s = 'abcde'\n",
    "\n",
    "for index, one_character in enumerate(s):\n",
    "    print(f'{index}: {one_character}')"
   ]
  },
  {
   "cell_type": "markdown",
   "metadata": {},
   "source": [
    "# Exercise: Powers of 10\n",
    "\n",
    "As you might know, any decimal number can be rewritten as the sum of powers of 10. For example, the number 2,468 can be written as:\n",
    "\n",
    "- 2 * 10**3\n",
    "- 4 * 10**2\n",
    "- 6 * 10**1\n",
    "- 8 * 10**0  -- anything to the 0th power is 1\n",
    "\n",
    "1. Ask the user to enter a string containing only digits, a number.\n",
    "2. Iterate over that string, printing each digit in this format -- as the digit `*` a power of 10.\n",
    "\n",
    "Hints:\n",
    "\n",
    "1. You'll want to use `enumerate`\n",
    "2. Remember that you can get the length of a string with `len`\n",
    "3. Don't forget that `len(text)` returns the number of characters, which is 1 more than the highest index."
   ]
  },
  {
   "cell_type": "code",
   "execution_count": 22,
   "metadata": {},
   "outputs": [
    {
     "name": "stdin",
     "output_type": "stream",
     "text": [
      "Enter a number:  2468\n"
     ]
    },
    {
     "name": "stdout",
     "output_type": "stream",
     "text": [
      "2 * 10 ** 3\n",
      "4 * 10 ** 2\n",
      "6 * 10 ** 1\n",
      "8 * 10 ** 0\n"
     ]
    }
   ],
   "source": [
    "number = input('Enter a number: ').strip()\n",
    "\n",
    "for index, one_digit in enumerate(number):\n",
    "    power = len(number) - index - 1\n",
    "    print(f'{one_digit} * 10 ** {power}')"
   ]
  },
  {
   "cell_type": "markdown",
   "metadata": {},
   "source": [
    "# Controlling our loops\n",
    "\n",
    "So far, we've seen that a `for` loop goes through every element (character) in a string. But what if:\n",
    "\n",
    "- we achieve our goal, finding what we wanted, earlier than getting to the end. How can we stop the loop early?\n",
    "- we see that the current iteration isn't useful, and we don't want to waste our time on it?\n",
    "\n",
    "Python offers two control statements:\n",
    "\n",
    "- `break` exits from the loop immediately. We continue with the first line of code after the loop body ends. We normally use `break` when we have achieved a goal, and can bail on the rest of the loop.\n",
    "- `continue` exits the current iteration, but continues with the next one. In other words, it kind of like skipping to the last line of the loop body. (If this is the final iteration, then we continue after the loop body ends.) We normally use `continue` if the current iteration isn't useful -- such as if we're going through a file, and encounter a comment line.\n",
    "\n",
    "Many times, we don't need to say `continue`, because we could have a big `if`-`else` condition inside of the loop body. However, using `continue` ensures that we keep the majority of the loop body less indented, \"flatter.\""
   ]
  },
  {
   "cell_type": "code",
   "execution_count": 23,
   "metadata": {},
   "outputs": [
    {
     "name": "stdout",
     "output_type": "stream",
     "text": [
      "a\n",
      "b\n",
      "c\n"
     ]
    }
   ],
   "source": [
    "# example with break: stop when we find look_for\n",
    "\n",
    "s = 'abcde'\n",
    "look_for = 'd'     \n",
    "\n",
    "for one_character in s:\n",
    "    if one_character == look_for:\n",
    "        break\n",
    "\n",
    "    print(one_character)"
   ]
  },
  {
   "cell_type": "code",
   "execution_count": 24,
   "metadata": {},
   "outputs": [
    {
     "name": "stdout",
     "output_type": "stream",
     "text": [
      "a\n",
      "b\n",
      "c\n",
      "e\n"
     ]
    }
   ],
   "source": [
    "# example with continue: ignore any instances of look_for\n",
    "\n",
    "\n",
    "s = 'abcde'\n",
    "look_for = 'd'     \n",
    "\n",
    "for one_character in s:\n",
    "    if one_character == look_for:\n",
    "        continue\n",
    "\n",
    "    print(one_character)"
   ]
  },
  {
   "cell_type": "markdown",
   "metadata": {},
   "source": [
    "# Nested loops\n",
    "\n",
    "You can have *any* code inside of a `for` loop's body, including another `for` loop! These are called \"nested loops,\" and they are quite common. \n",
    "\n",
    "If you use either `break` or `continue` in a nested loop, if will affect the closest loop to it. You cannot use `break` to stop an outer loop if you're in the inner one."
   ]
  },
  {
   "cell_type": "markdown",
   "metadata": {},
   "source": [
    "# Exercise: Sum digits\n",
    "\n",
    "1. Set `total` to 0.\n",
    "2. Ask the user to enter a string containing digits.\n",
    "3. Go through the string, one character at a time.\n",
    "    - If the current character is a `.`, then stop altogether.\n",
    "    - If the current character isn't a digit, then scold the user.\n",
    "4. Convert the digit to an integer and add to `total`, printing the updated `total` value.\n",
    "5. Print `total`.\n",
    "\n",
    "Example:\n",
    "\n",
    "    Enter digits: 135a.4\n",
    "    adding 1, total is 1\n",
    "    adding 3, total is 4\n",
    "    adding 5, total is 9\n",
    "    skipping a -- not a digit\n",
    "    stopping\n",
    "    total is 9"
   ]
  },
  {
   "cell_type": "code",
   "execution_count": 29,
   "metadata": {},
   "outputs": [
    {
     "name": "stdin",
     "output_type": "stream",
     "text": [
      "Enter digits:  135a.4\n"
     ]
    },
    {
     "name": "stdout",
     "output_type": "stream",
     "text": [
      "adding 1, total is 1\n",
      "adding 3, total is 4\n",
      "adding 5, total is 9\n",
      "a is not numeric; skipping\n",
      "total = 9\n"
     ]
    }
   ],
   "source": [
    "total = 0\n",
    "\n",
    "digits = input('Enter digits: ').strip()\n",
    "\n",
    "for one_digit in digits:\n",
    "    if one_digit == '.':\n",
    "        break\n",
    "    \n",
    "    if not one_digit.isdigit():\n",
    "        print(f'{one_digit} is not numeric; skipping')\n",
    "        continue\n",
    "\n",
    "    total += int(one_digit)\n",
    "    print(f'adding {one_digit}, total is {total}')   \n",
    "\n",
    "print(f'total = {total}')    "
   ]
  },
  {
   "cell_type": "markdown",
   "metadata": {},
   "source": [
    "# Next up\n",
    "\n",
    "1. `while` loops\n",
    "2. Lists\n",
    "3. Strings to lists, and back"
   ]
  },
  {
   "cell_type": "markdown",
   "metadata": {},
   "source": [
    "# `while` loops\n",
    "\n",
    "A `for` loop lets us execute some code (the loop body) for each element of an iterable -- each character in a string, or each number in a `range`. It's perfect for when we know exactly how many times we want to iterate.\n",
    "\n",
    "But sometimes, we don't know how many times we'll want to iterate. We know when we want to stop, though. That's where a `while` loop comes in -- it's basically an `if` statement whose body keeps executing until the condition is `False`.\n",
    "\n"
   ]
  },
  {
   "cell_type": "code",
   "execution_count": 30,
   "metadata": {},
   "outputs": [
    {
     "name": "stdout",
     "output_type": "stream",
     "text": [
      "5\n",
      "4\n",
      "3\n",
      "2\n",
      "1\n"
     ]
    }
   ],
   "source": [
    "x = 5\n",
    "\n",
    "while x > 0:   # this looks just like an \"if\" statement, except with \"while\"\n",
    "    print(x)   # this is our \"while\" loop body\n",
    "    x -= 1     # same as saying x = x - 1, decrement by 1\n",
    "\n",
    "    # when we get to the end of the loop body, we go back to line 3, and evaluate the condition again"
   ]
  },
  {
   "cell_type": "code",
   "execution_count": 32,
   "metadata": {},
   "outputs": [],
   "source": [
    "# much more typical is to use a \"while\" loop when we know when we have to stop, but don't know how long it'll take"
   ]
  },
  {
   "cell_type": "markdown",
   "metadata": {},
   "source": [
    "# Exercise: Sum to 100\n",
    "\n",
    "1. Set `total` to 0.\n",
    "2. Ask the user to enter a number.\n",
    "    - If they enter a non-number, scold them and let them try again.\n",
    "3. Add the number to `total`, and print `total`.\n",
    "4. Keep doing steps 2-3 until `total` is >= 100. At that point, stop."
   ]
  },
  {
   "cell_type": "code",
   "execution_count": 34,
   "metadata": {},
   "outputs": [
    {
     "name": "stdin",
     "output_type": "stream",
     "text": [
      "Enter a number:  20\n"
     ]
    },
    {
     "name": "stdout",
     "output_type": "stream",
     "text": [
      "20\n"
     ]
    },
    {
     "name": "stdin",
     "output_type": "stream",
     "text": [
      "Enter a number:  50\n"
     ]
    },
    {
     "name": "stdout",
     "output_type": "stream",
     "text": [
      "70\n"
     ]
    },
    {
     "name": "stdin",
     "output_type": "stream",
     "text": [
      "Enter a number:  2\n"
     ]
    },
    {
     "name": "stdout",
     "output_type": "stream",
     "text": [
      "72\n"
     ]
    },
    {
     "name": "stdin",
     "output_type": "stream",
     "text": [
      "Enter a number:  2\n"
     ]
    },
    {
     "name": "stdout",
     "output_type": "stream",
     "text": [
      "74\n"
     ]
    },
    {
     "name": "stdin",
     "output_type": "stream",
     "text": [
      "Enter a number:  2\n"
     ]
    },
    {
     "name": "stdout",
     "output_type": "stream",
     "text": [
      "76\n"
     ]
    },
    {
     "name": "stdin",
     "output_type": "stream",
     "text": [
      "Enter a number:  2\n"
     ]
    },
    {
     "name": "stdout",
     "output_type": "stream",
     "text": [
      "78\n"
     ]
    },
    {
     "name": "stdin",
     "output_type": "stream",
     "text": [
      "Enter a number:  2\n"
     ]
    },
    {
     "name": "stdout",
     "output_type": "stream",
     "text": [
      "80\n"
     ]
    },
    {
     "name": "stdin",
     "output_type": "stream",
     "text": [
      "Enter a number:  2\n"
     ]
    },
    {
     "name": "stdout",
     "output_type": "stream",
     "text": [
      "82\n"
     ]
    },
    {
     "name": "stdin",
     "output_type": "stream",
     "text": [
      "Enter a number:  2\n"
     ]
    },
    {
     "name": "stdout",
     "output_type": "stream",
     "text": [
      "84\n"
     ]
    },
    {
     "name": "stdin",
     "output_type": "stream",
     "text": [
      "Enter a number:  -100\n"
     ]
    },
    {
     "name": "stdout",
     "output_type": "stream",
     "text": [
      "-100 is not numeric; try again\n"
     ]
    },
    {
     "name": "stdin",
     "output_type": "stream",
     "text": [
      "Enter a number:  0\n"
     ]
    },
    {
     "name": "stdout",
     "output_type": "stream",
     "text": [
      "84\n"
     ]
    },
    {
     "name": "stdin",
     "output_type": "stream",
     "text": [
      "Enter a number:  0\n"
     ]
    },
    {
     "name": "stdout",
     "output_type": "stream",
     "text": [
      "84\n"
     ]
    },
    {
     "name": "stdin",
     "output_type": "stream",
     "text": [
      "Enter a number:  12345\n"
     ]
    },
    {
     "name": "stdout",
     "output_type": "stream",
     "text": [
      "12429\n"
     ]
    }
   ],
   "source": [
    "total = 0\n",
    "\n",
    "while total < 100:\n",
    "    s = input('Enter a number: ').strip()\n",
    "    \n",
    "    if not s.isdigit():\n",
    "        print(f'{s} is not numeric; try again')\n",
    "        continue\n",
    "\n",
    "    total += int(s)\n",
    "    print(total)"
   ]
  },
  {
   "cell_type": "code",
   "execution_count": 35,
   "metadata": {},
   "outputs": [
    {
     "name": "stdin",
     "output_type": "stream",
     "text": [
      "Enter your name:  Reuven\n"
     ]
    },
    {
     "name": "stdout",
     "output_type": "stream",
     "text": [
      "Hello, Reuven!\n"
     ]
    },
    {
     "name": "stdin",
     "output_type": "stream",
     "text": [
      "Enter your name:  sopmeone\n"
     ]
    },
    {
     "name": "stdout",
     "output_type": "stream",
     "text": [
      "Hello, sopmeone!\n"
     ]
    },
    {
     "name": "stdin",
     "output_type": "stream",
     "text": [
      "Enter your name:  whoever\n"
     ]
    },
    {
     "name": "stdout",
     "output_type": "stream",
     "text": [
      "Hello, whoever!\n"
     ]
    },
    {
     "name": "stdin",
     "output_type": "stream",
     "text": [
      "Enter your name:  asdfasfafafas\n"
     ]
    },
    {
     "name": "stdout",
     "output_type": "stream",
     "text": [
      "Hello, asdfasfafafas!\n"
     ]
    },
    {
     "name": "stdin",
     "output_type": "stream",
     "text": [
      "Enter your name:  \n"
     ]
    }
   ],
   "source": [
    "# what if we really don't know how many iterations we'll want?\n",
    "# it's common to let the user enter lots of input until they somehow indicate they want to stop\n",
    "# either typing \"quit\" or just an empty string\n",
    "\n",
    "while True:   # this is an infinite loop!\n",
    "    name = input('Enter your name: ').strip()\n",
    "\n",
    "    if name == '':   # escape hatch -- if the user enters an empty string, we stop\n",
    "        break\n",
    "\n",
    "    print(f'Hello, {name}!')"
   ]
  },
  {
   "cell_type": "markdown",
   "metadata": {},
   "source": [
    "# Lists\n",
    "\n",
    "So far, we have talked about several different data structures:\n",
    "\n",
    "- integers and floats\n",
    "- strings\n",
    "\n",
    "Now we'll talk about *lists*, which are Python's go-to \"container\" type. A few things about lists:\n",
    "\n",
    "- A list can contain anywhere from 0 to a huge (limited by memory on your computer) number of elements\n",
    "- Each item can be of any type whatsoever\n",
    "- Traditionally, we only put one type of value in a list, but that isn't really enforced -- it's up to us\n",
    "\n",
    "Lists are used wherever you want to have \"a bunch of\" something:\n",
    "\n",
    "- IP addresses\n",
    "- users\n",
    "- database records\n",
    "- filenames\n",
    "\n",
    "All of these (and many more examples) usually are stored in a list.\n",
    "\n",
    "Some other languages call this type of data structure an \"array.\" But they aren't really arrays, because (as we'll see) they can change their size. "
   ]
  },
  {
   "cell_type": "markdown",
   "metadata": {},
   "source": [
    "# Defining and working with lists\n",
    "\n",
    "To create a list, put zero or more elements inside of `[]`\n",
    "\n",
    "- elements are separated by `,`\n",
    "- you can have any number of elements you want\n",
    "- each element can be of any type whatsoever"
   ]
  },
  {
   "cell_type": "code",
   "execution_count": 36,
   "metadata": {},
   "outputs": [],
   "source": [
    "mylist = []   # the empty list"
   ]
  },
  {
   "cell_type": "code",
   "execution_count": 37,
   "metadata": {},
   "outputs": [],
   "source": [
    "mylist = [10, 20, 30, 40, 50, 60]\n"
   ]
  },
  {
   "cell_type": "code",
   "execution_count": 38,
   "metadata": {},
   "outputs": [
    {
     "data": {
      "text/plain": [
       "6"
      ]
     },
     "execution_count": 38,
     "metadata": {},
     "output_type": "execute_result"
    }
   ],
   "source": [
    "# how many items in a list? Use len\n",
    "len(mylist)"
   ]
  },
  {
   "cell_type": "code",
   "execution_count": 39,
   "metadata": {},
   "outputs": [
    {
     "data": {
      "text/plain": [
       "10"
      ]
     },
     "execution_count": 39,
     "metadata": {},
     "output_type": "execute_result"
    }
   ],
   "source": [
    "# get the first element? It's at index 0\n",
    "mylist[0]"
   ]
  },
  {
   "cell_type": "code",
   "execution_count": 40,
   "metadata": {},
   "outputs": [
    {
     "data": {
      "text/plain": [
       "20"
      ]
     },
     "execution_count": 40,
     "metadata": {},
     "output_type": "execute_result"
    }
   ],
   "source": [
    "# get the second element? It's at index 1\n",
    "mylist[1]"
   ]
  },
  {
   "cell_type": "code",
   "execution_count": 41,
   "metadata": {},
   "outputs": [
    {
     "data": {
      "text/plain": [
       "60"
      ]
     },
     "execution_count": 41,
     "metadata": {},
     "output_type": "execute_result"
    }
   ],
   "source": [
    "# get the final element? It's at index -1\n",
    "mylist[-1]"
   ]
  },
  {
   "cell_type": "code",
   "execution_count": 42,
   "metadata": {},
   "outputs": [
    {
     "data": {
      "text/plain": [
       "True"
      ]
     },
     "execution_count": 42,
     "metadata": {},
     "output_type": "execute_result"
    }
   ],
   "source": [
    "# is a value in the list? Check with \"in\"\n",
    "40 in mylist"
   ]
  },
  {
   "cell_type": "code",
   "execution_count": 43,
   "metadata": {},
   "outputs": [
    {
     "data": {
      "text/plain": [
       "False"
      ]
     },
     "execution_count": 43,
     "metadata": {},
     "output_type": "execute_result"
    }
   ],
   "source": [
    "12345 in mylist"
   ]
  },
  {
   "cell_type": "code",
   "execution_count": 44,
   "metadata": {},
   "outputs": [
    {
     "name": "stdout",
     "output_type": "stream",
     "text": [
      "10\n",
      "20\n",
      "30\n",
      "40\n",
      "50\n",
      "60\n"
     ]
    }
   ],
   "source": [
    "# I can iterate over a list with \"for\"\n",
    "\n",
    "for one_item in mylist:\n",
    "    print(one_item)"
   ]
  },
  {
   "cell_type": "markdown",
   "metadata": {},
   "source": [
    "Strings contain characters. Lists can contain anything at all -- including strings that are longer than one character!"
   ]
  },
  {
   "cell_type": "markdown",
   "metadata": {},
   "source": [
    "# Lists are *mutable*\n",
    "\n",
    "We can modify a list in three ways. None of these ways work on a string, which is *immutable*:\n",
    "\n",
    "- We can replace a value with another value\n",
    "- We can add new elements to the list, making it longer\n",
    "- We can remove existing elements from the list, making it shorter"
   ]
  },
  {
   "cell_type": "code",
   "execution_count": 45,
   "metadata": {},
   "outputs": [
    {
     "data": {
      "text/plain": [
       "[10, 20, '!!!', 40, 50]"
      ]
     },
     "execution_count": 45,
     "metadata": {},
     "output_type": "execute_result"
    }
   ],
   "source": [
    "mylist = [10, 20, 30, 40, 50]\n",
    "\n",
    "mylist[2] = '!!!'   # here, we replace an existing value with a new one\n",
    "mylist"
   ]
  },
  {
   "cell_type": "code",
   "execution_count": 46,
   "metadata": {},
   "outputs": [
    {
     "ename": "IndexError",
     "evalue": "list assignment index out of range",
     "output_type": "error",
     "traceback": [
      "\u001b[31m---------------------------------------------------------------------------\u001b[39m",
      "\u001b[31mIndexError\u001b[39m                                Traceback (most recent call last)",
      "\u001b[36mCell\u001b[39m\u001b[36m \u001b[39m\u001b[32mIn[46]\u001b[39m\u001b[32m, line 2\u001b[39m\n\u001b[32m      1\u001b[39m \u001b[38;5;66;03m# note that you can only assign to existing indexes\u001b[39;00m\n\u001b[32m----> \u001b[39m\u001b[32m2\u001b[39m \u001b[43mmylist\u001b[49m\u001b[43m[\u001b[49m\u001b[32;43m100\u001b[39;49m\u001b[43m]\u001b[49m = \u001b[33m'\u001b[39m\u001b[33m!!!\u001b[39m\u001b[33m'\u001b[39m\n",
      "\u001b[31mIndexError\u001b[39m: list assignment index out of range"
     ]
    }
   ],
   "source": [
    "# note that you can only assign to existing indexes\n",
    "mylist[100] = '!!!'"
   ]
  },
  {
   "cell_type": "code",
   "execution_count": 47,
   "metadata": {},
   "outputs": [
    {
     "data": {
      "text/plain": [
       "[10, 20, '!!!', 40, 50, 12345]"
      ]
     },
     "execution_count": 47,
     "metadata": {},
     "output_type": "execute_result"
    }
   ],
   "source": [
    "# we can add new elements to a list using the list.append method\n",
    "# if we invoke list.append, whatever we give it as an argument is added to the list, at the end\n",
    "\n",
    "mylist.append(12345)\n",
    "mylist"
   ]
  },
  {
   "cell_type": "code",
   "execution_count": 48,
   "metadata": {},
   "outputs": [
    {
     "data": {
      "text/plain": [
       "[10, 20, '!!!', 40, 50, 12345, 2468]"
      ]
     },
     "execution_count": 48,
     "metadata": {},
     "output_type": "execute_result"
    }
   ],
   "source": [
    "mylist.append(2468)\n",
    "mylist"
   ]
  },
  {
   "cell_type": "code",
   "execution_count": 49,
   "metadata": {},
   "outputs": [
    {
     "data": {
      "text/plain": [
       "[10, 20, '!!!', 40, 50, 12345, 2468, 2, 4, 6, 8]"
      ]
     },
     "execution_count": 49,
     "metadata": {},
     "output_type": "execute_result"
    }
   ],
   "source": [
    "# what if you want to add multiple values to the end of the list?\n",
    "# use +=, which runs a for loop on the value to its right and appends each element in turn\n",
    "\n",
    "mylist += [2,4,6,8]\n",
    "mylist"
   ]
  },
  {
   "cell_type": "code",
   "execution_count": 50,
   "metadata": {},
   "outputs": [
    {
     "ename": "TypeError",
     "evalue": "'int' object is not iterable",
     "output_type": "error",
     "traceback": [
      "\u001b[31m---------------------------------------------------------------------------\u001b[39m",
      "\u001b[31mTypeError\u001b[39m                                 Traceback (most recent call last)",
      "\u001b[36mCell\u001b[39m\u001b[36m \u001b[39m\u001b[32mIn[50]\u001b[39m\u001b[32m, line 1\u001b[39m\n\u001b[32m----> \u001b[39m\u001b[32m1\u001b[39m \u001b[43mmylist\u001b[49m\u001b[43m \u001b[49m\u001b[43m+\u001b[49m\u001b[43m=\u001b[49m\u001b[43m \u001b[49m\u001b[32;43m10\u001b[39;49m\n",
      "\u001b[31mTypeError\u001b[39m: 'int' object is not iterable"
     ]
    }
   ],
   "source": [
    "mylist += 10"
   ]
  },
  {
   "cell_type": "code",
   "execution_count": 51,
   "metadata": {},
   "outputs": [
    {
     "data": {
      "text/plain": [
       "8"
      ]
     },
     "execution_count": 51,
     "metadata": {},
     "output_type": "execute_result"
    }
   ],
   "source": [
    "# we can remove elements with list.pop()\n",
    "# if we don't specify an index, then it removes the final element\n",
    "# if we do specify an index, it is returned and the item at index+1 is moved to its left\n",
    "\n",
    "mylist.pop()"
   ]
  },
  {
   "cell_type": "code",
   "execution_count": 52,
   "metadata": {},
   "outputs": [
    {
     "data": {
      "text/plain": [
       "10"
      ]
     },
     "execution_count": 52,
     "metadata": {},
     "output_type": "execute_result"
    }
   ],
   "source": [
    "mylist.pop(0)  # remove + return the first element"
   ]
  },
  {
   "cell_type": "code",
   "execution_count": 53,
   "metadata": {},
   "outputs": [
    {
     "data": {
      "text/plain": [
       "[20, '!!!', 40, 50, 12345, 2468, 2, 4, 6]"
      ]
     },
     "execution_count": 53,
     "metadata": {},
     "output_type": "execute_result"
    }
   ],
   "source": [
    "mylist"
   ]
  },
  {
   "cell_type": "markdown",
   "metadata": {},
   "source": [
    "It's pretty common to use a list for accumulating information over the run of a program. You start with an empty list, and then as the program goes on, it appends elements to the list. At the end of the program, you have a full accounting of whatever you "
   ]
  }
 ],
 "metadata": {
  "kernelspec": {
   "display_name": "Python 3 (ipykernel)",
   "language": "python",
   "name": "python3"
  },
  "language_info": {
   "codemirror_mode": {
    "name": "ipython",
    "version": 3
   },
   "file_extension": ".py",
   "mimetype": "text/x-python",
   "name": "python",
   "nbconvert_exporter": "python",
   "pygments_lexer": "ipython3",
   "version": "3.13.5"
  }
 },
 "nbformat": 4,
 "nbformat_minor": 4
}
