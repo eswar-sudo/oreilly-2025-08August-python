{
 "cells": [
  {
   "cell_type": "markdown",
   "metadata": {},
   "source": [
    "# Agenda\n",
    "\n",
    "1. Q&A\n",
    "2. Loops\n",
    "    - `for` loops\n",
    "    - How loops work behind the scenes\n",
    "    - Controlling our loops with `break` and `continue`\n",
    "    - The index (or lack of one)\n",
    "    - `while` loops -- what they're for\n",
    "3. Lists\n",
    "    - How are lists similar to (and different from) strings?\n",
    "    - Lists are mutable\n",
    "    - Retrieving from and modifying and updating lists in various ways\n",
    "    - Looping over lists\n",
    "4. Turning strings into lists, and vice versa\n",
    "    - The `str.split` method, which gives you a list from a string\n",
    "    - The `str.join` method, which gives you a string from a list of strings\n",
    "5. Tuples\n",
    "    - How they fit into our existing family of data structures\n",
    "    - How they're similar to / different from strings and lists\n",
    "    - Why do tuples exist? Where would we use them?\n",
    "    - Tuple unpacking "
   ]
  },
  {
   "cell_type": "markdown",
   "metadata": {},
   "source": [
    "# Functions vs. methods\n",
    "\n",
    "Both of these are types of verbs in Python. The difference is whether they are attached to a value (i.e., a method) or whether they're free floating (i.e., functions).\n",
    "\n",
    "Most of the verbs in Python are actually methods, and we'll see list methods today! \n",
    "\n",
    "There are a number of functions, though, and those tend to be the most common things we want to do, such as `print` and `input`.\n",
    "\n",
    "In use, we invoke a function and pass zero or more arguments in its `()`:\n",
    "\n",
    "    myfunc()\n",
    "    myfunc('a', 'b', 'c')\n",
    "    myfunc(10, 20, 30)\n",
    "\n",
    "There are functions, and we use them, and we invoke them this way.\n",
    "\n",
    "HOWEVER, we might make the mistake of invoking a function with the wrong kind of argument value.\n",
    "\n",
    "    len('abcd')  # this returns 4\n",
    "    len(1234)    # this gives us an error, because integers have no \"len\"\n",
    "\n",
    "Methods are tightly coupled with a data type, reducing the chance that we'll have an error of this sort. We always invoke methods after a `.`, which itself comes after a value (either the value itself or a variable):\n",
    "\n",
    "    data.method()\n",
    "    data.method('a', 'b', 'c')\n",
    "    data.method(10)\n",
    "\n",
    "If the method isn't appropriate for the value, then we'll get an error saying that it doesn't exist. We won't get the \"inappropriate\" or \"bad value\" sort of error.\n",
    "\n",
    "Methods come from object-oriented programming, where we try to organize our code such that data and functions (methods) are defined together. That's an organizational technique."
   ]
  },
  {
   "cell_type": "markdown",
   "metadata": {},
   "source": [
    "A function's documentation will always tell you:\n",
    "\n",
    "- What inputs does it expect?\n",
    "- What does it change or do?\n",
    "- What does it return?\n",
    "\n",
    "You can check the Python documentation at https://docs.python.org, and read about any of these functions. In Jupyter, we actually have a special `help` function that we can invoke."
   ]
  },
  {
   "cell_type": "markdown",
   "metadata": {},
   "source": [
    "# Loops\n",
    "\n",
    "One of the most important rules in programming is, \"Don't repeat yourself!\" Which we shorten to \"DRY\".\n",
    "\n",
    "Computers are very dumb, but very fast. If we can have the computer repeat things for us, rather than us repeat our instructions, that's great for everyone."
   ]
  },
  {
   "cell_type": "code",
   "execution_count": 2,
   "metadata": {},
   "outputs": [
    {
     "name": "stdout",
     "output_type": "stream",
     "text": [
      "a\n",
      "b\n",
      "c\n",
      "d\n",
      "e\n"
     ]
    }
   ],
   "source": [
    "s = 'abcde'\n",
    "\n",
    "# I want to print every character in s\n",
    "\n",
    "print(s[0])\n",
    "print(s[1])\n",
    "print(s[2])\n",
    "print(s[3])\n",
    "print(s[4])"
   ]
  },
  {
   "cell_type": "markdown",
   "metadata": {},
   "source": [
    "# Unfortunately, this works!\n",
    "\n",
    "We got the right answer -- but we had to write five lines of code just to get those five characters printed. Why did we have to work hard, when we could have asked the computer to work hard?\n",
    "\n",
    "A loop allows us to give such instructions. We tell the computer: Do this `x` times, often with a bit of variation. Loops exist in every programming language.\n",
    "\n",
    "Python has two kinds of loops:\n",
    "\n",
    "- `for`\n",
    "- `while`\n",
    "\n",
    "That's it!\n",
    "\n",
    "I'm going to show you a `for` loop now that does what our previous code (in cell 2) did, printing each letter of `s`. Then we'll talk about what's happening behind the scenes, and also the syntax we need to use to run a `for` loop."
   ]
  },
  {
   "cell_type": "code",
   "execution_count": 3,
   "metadata": {},
   "outputs": [
    {
     "name": "stdout",
     "output_type": "stream",
     "text": [
      "Start\n",
      "a\n",
      "b\n",
      "c\n",
      "d\n",
      "e\n",
      "Done\n"
     ]
    }
   ],
   "source": [
    "s = 'abcde'\n",
    "\n",
    "print('Start')\n",
    "for one_character in s:\n",
    "    print(one_character)\n",
    "print('Done')    "
   ]
  },
  {
   "cell_type": "markdown",
   "metadata": {},
   "source": [
    "# Syntax of a `for` loop\n",
    "\n",
    "1. We start with `for`\n",
    "2. After `for`, we have a *loop variable*. The name of this variable has *ZERO* influence on the way the loop works. I chose a variable name that I thought would be appropriate.\n",
    "3. After the loop variable, we have the word `in`\n",
    "4. Finally, at the end of the line, we have the value over which we want to iterate, followed by `:`. (As you know, a `:` means that we'll have an indented block on the next line.)\n",
    "5. The indented block can be of any length, and can include *any* Python code.\n",
    "6. When the indententation ends, the `for` loop is over, and the code continues afterwards."
   ]
  },
  {
   "cell_type": "markdown",
   "metadata": {},
   "source": [
    "# What's really going on here?\n",
    "\n",
    "1. `for` turns to the value at the end of the line (here, it's `s`), and asks: Are you iterable? Meaning, do you know how to behave inside of a `for` loop?\n",
    "    - If not, then the loop ends with an error message, saying the value is not \"iterable.\"\n",
    "2. `for` says: If you're iterable, then give me your next value.\n",
    "    - If there is a next value, it is assigned to our loop variable, `one_character`\n",
    "    - If there is no next value, then the loop exits right away, and we continue with our program following the loop body.\n",
    "3. The loop body executes, with `one_character` (our loop variable) defined.\n",
    "4. We go back to step 2"
   ]
  },
  {
   "cell_type": "markdown",
   "metadata": {},
   "source": [
    "# This is very much unlike other languages\n",
    "\n",
    "- Where's the index?\n",
    "- How do I know how many values I'll get?\n",
    "- How do I know what values I'll get -- their types, for example?"
   ]
  },
  {
   "cell_type": "markdown",
   "metadata": {},
   "source": [
    "# Exercise: Vowels, digits, and others\n",
    "\n"
   ]
  }
 ],
 "metadata": {
  "kernelspec": {
   "display_name": "Python 3 (ipykernel)",
   "language": "python",
   "name": "python3"
  },
  "language_info": {
   "codemirror_mode": {
    "name": "ipython",
    "version": 3
   },
   "file_extension": ".py",
   "mimetype": "text/x-python",
   "name": "python",
   "nbconvert_exporter": "python",
   "pygments_lexer": "ipython3",
   "version": "3.13.5"
  }
 },
 "nbformat": 4,
 "nbformat_minor": 4
}
