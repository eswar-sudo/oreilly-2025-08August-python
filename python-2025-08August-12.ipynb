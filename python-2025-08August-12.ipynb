{
 "cells": [
  {
   "cell_type": "markdown",
   "metadata": {},
   "source": [
    "# Agenda\n",
    "\n",
    "1. Q&A\n",
    "2. Loops\n",
    "    - `for` loops\n",
    "    - How loops work behind the scenes\n",
    "    - Controlling our loops with `break` and `continue`\n",
    "    - The index (or lack of one)\n",
    "    - `while` loops -- what they're for\n",
    "3. Lists\n",
    "    - How are lists similar to (and different from) strings?\n",
    "    - Lists are mutable\n",
    "    - Retrieving from and modifying and updating lists in various ways\n",
    "    - Looping over lists\n",
    "4. Turning strings into lists, and vice versa\n",
    "    - The `str.split` method, which gives you a list from a string\n",
    "    - The `str.join` method, which gives you a string from a list of strings\n",
    "5. Tuples\n",
    "    - How they fit into our existing family of data structures\n",
    "    - How they're similar to / different from strings and lists\n",
    "    - Why do tuples exist? Where would we use them?\n",
    "    - Tuple unpacking "
   ]
  },
  {
   "cell_type": "code",
   "execution_count": null,
   "metadata": {},
   "outputs": [],
   "source": []
  }
 ],
 "metadata": {
  "kernelspec": {
   "display_name": "Python 3 (ipykernel)",
   "language": "python",
   "name": "python3"
  },
  "language_info": {
   "codemirror_mode": {
    "name": "ipython",
    "version": 3
   },
   "file_extension": ".py",
   "mimetype": "text/x-python",
   "name": "python",
   "nbconvert_exporter": "python",
   "pygments_lexer": "ipython3",
   "version": "3.13.5"
  }
 },
 "nbformat": 4,
 "nbformat_minor": 4
}
