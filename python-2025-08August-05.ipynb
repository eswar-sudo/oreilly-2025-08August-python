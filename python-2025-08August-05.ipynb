{
 "cells": [
  {
   "cell_type": "markdown",
   "metadata": {},
   "source": [
    "# Agenda\n",
    "\n",
    "1. Fundamentals and core concepts\n",
    "    - What is a programming language?\n",
    "    - Values and variables\n",
    "    - Assignment to variables\n",
    "    - Displaying values on the screen with `print`\n",
    "    - Getting input from the user with `input`\n",
    "    - Comparison operators -- are things the same?\n",
    "    - Making decisions with `if`\n",
    "    - Numbers in Python (`int` and `float`)\n",
    "    - Text in Python (`str`)\n",
    "    - Methods -- what are they, and how can we use them with strings?\n",
    "2. Loops, lists, and tuples\n",
    "    - Repeating ourselves with loops\n",
    "    - The \"list\" data structure -- what it does\n",
    "    - Converting from strings to lists (and back)\n",
    "    - Tuples -- what are they, and how do they fit into things?\n",
    "    - Tuple unpacking\n",
    "3. Dictionaries and files\n",
    "    - Dicts -- what are they, how do we use them?\n",
    "    - Files -- reading from them and (a little) writing to them\n",
    "4. Functions\n",
    "    - Defining functions\n",
    "    - Invoking functions\n",
    "    - Arguments and parameters\n",
    "    - Return values\n",
    "    - Local vs. global variables\n",
    "5. Modules and packages\n",
    "    - Using code that others have provided\n",
    "    - Providing code to others\n",
    "    - Python standard library\n",
    "    - PyPI and third-party modules"
   ]
  },
  {
   "cell_type": "markdown",
   "metadata": {},
   "source": [
    "# What is a programming language? What is Python?\n",
    "\n",
    "When computers were invented, people would build a new, separate computer for every problem they had to solve. That was time consuming and expensive! At some point, they decided to create general-purpose computers that could solve many problems. The way that such a computer could solve different problems was by writing *software*. In those days, you would write the 1s and 0s (\"binary code\") that the computer can use for instructions.\n",
    "\n",
    "Pretty quickly, people decided that it would be better for us to write in a \"higher-level\" programming language, and convert that language into 0"
   ]
  }
 ],
 "metadata": {
  "kernelspec": {
   "display_name": "Python 3 (ipykernel)",
   "language": "python",
   "name": "python3"
  },
  "language_info": {
   "codemirror_mode": {
    "name": "ipython",
    "version": 3
   },
   "file_extension": ".py",
   "mimetype": "text/x-python",
   "name": "python",
   "nbconvert_exporter": "python",
   "pygments_lexer": "ipython3",
   "version": "3.13.5"
  }
 },
 "nbformat": 4,
 "nbformat_minor": 4
}
