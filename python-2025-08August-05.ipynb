{
 "cells": [
  {
   "cell_type": "markdown",
   "metadata": {},
   "source": [
    "# Agenda\n",
    "\n",
    "1. Fundamentals and core concepts\n",
    "    - What is a programming language?\n",
    "    - Values and variables\n",
    "    - Assignment to variables\n",
    "    - Displaying values on the screen with `print`\n",
    "    - Getting input from the user with `input`\n",
    "    - Comparison operators -- are things the same?\n",
    "    - Making decisions with `if`\n",
    "    - Numbers in Python (`int` and `float`)\n",
    "    - Text in Python (`str`)\n",
    "    - Methods -- what are they, and how can we use them with strings?\n",
    "2. Loops, lists, and tuples\n",
    "    - Repeating ourselves with loops\n",
    "    - The \"list\" data structure -- what it does\n",
    "    - Converting from strings to lists (and back)\n",
    "    - Tuples -- what are they, and how do they fit into things?\n",
    "    - Tuple unpacking\n",
    "3. Dictionaries and files\n",
    "    - Dicts -- what are they, how do we use them?\n",
    "    - Files -- reading from them and (a little) writing to them\n",
    "4. Functions\n",
    "    - Defining functions\n",
    "    - Invoking functions\n",
    "    - Arguments and parameters\n",
    "    - Return values\n",
    "    - Local vs. global variables\n",
    "5. Modules and packages\n",
    "    - Using code that others have provided\n",
    "    - Providing code to others\n",
    "    - Python standard library\n",
    "    - PyPI and third-party modules"
   ]
  },
  {
   "cell_type": "markdown",
   "metadata": {},
   "source": [
    "# What is a programming language? What is Python?\n",
    "\n",
    "When computers were invented, people would build a new, separate computer for every problem they had to solve. That was time consuming and expensive! At some point, they decided to create general-purpose computers that could solve many problems. The way that such a computer could solve different problems was by writing *software*. In those days, you would write the 1s and 0s (\"binary code\") that the computer can use for instructions.\n",
    "\n",
    "Pretty quickly, people decided that it would be better for us to write in a \"higher-level\" programming language, and convert that language into 1s and 0s. There are many, *many* programming languages out there.\n",
    "\n",
    "- C -- executes very quickly, because even though it's a higher-level language than 1s and 0s, it's still very tied to hardware and how it works. C is thus very hard to learn and often hard to use, but when you get things working, it runs very fast.\n",
    "- C++ -- C with object-oriented facilities for organizing your code in a modern way, using \"objects.\" C++ is a very, *very* complex language, far more even than C.\n",
    "- Java -- tries to remove some of the hardware thinking from programming, and is higher level. Java requires that you know how to use objects, and that can be complicated.\n",
    "- C# -- Microsoft's version of Java.\n",
    "- Python -- very high level language. It's not intended to execute super fast. It's intended to be easy to learn, consistent, and easy to read/debug.\n",
    "\n",
    "Python has been around for more than 30 years! But only in the last decade has it really taken off. \n",
    "\n",
    "Python is a perfect language for an age in which computers are cheap and people are expensive.\n",
    "\n",
    "Python code might not execute super fast, but it makes you very productive, which means that it's a good investment for many companies (for many individuals, too!).\n",
    "\n",
    "Python has become very popular in a number of domains:\n",
    "\n",
    "- Machine learning and AI\n",
    "- Data analysis\n",
    "- Devops\n",
    "- Web applications\n",
    "- API servers/clients\n",
    "- Education\n",
    "- Testing and automation\n",
    "\n",
    "Just because it's an easy language doesn't mean programming is always easy!\n",
    "\n",
    "Climbing two ladders at the same time when you're learning to program:\n",
    "- Concepts and ideas of programming\n",
    "- Syntax of a language (Python, in this case)"
   ]
  },
  {
   "cell_type": "markdown",
   "metadata": {},
   "source": [
    "# Jupyter\n",
    "\n",
    "If you're going to write Python code, you need (a) a place to write/edit it and (b) a place to execute it. You can use a traditional editor or IDE (integrated development environment) to do all of this.\n",
    "\n",
    "A number of programmers set up Jupyter, which gives you the illusion of writing Python in your browser.\n",
    "\n",
    "If you want to set up Jupyter on your computer, you can!\n",
    "\n",
    "If you want to use an IDE, you can!\n",
    "\n",
    "BUT if you don't want to install anything, you can just use Jupyter Lite. In that case, both Jupyter and Python run INSIDE OF YOUR BROWSER.\n",
    "\n",
    "https://jupyter.org/try-jupyter/lab/"
   ]
  },
  {
   "cell_type": "markdown",
   "metadata": {},
   "source": [
    "# A quick Jupyter tutorial\n",
    "\n",
    "When you type into Jupyter, you're typing into a *cell*. Each cell can contain any amount of text. But when you type, you can actually be in one of two modes:\n",
    "\n",
    "- Edit mode, which means that when you type, you see the text in the Jupyter cell. I'm currently in edit mode.  To enter edit mode, click inside of the rectangle (the cell) or press ENTER.\n",
    "- Command mode, in which anything you type is not displayed. Rather, it's taken as a command for Jupyter to follow. To enter command mode, click to the left of the cell or press ESC.\n",
    "\n",
    "### What commands can we use?\n",
    "\n",
    "- `c` -- copy the current cell\n",
    "- `x` -- cut the current cell\n",
    "- `v` -- paste the most recently copied/cut cell\n",
    "- `a` -- create a new, blank cell *above* the current one\n",
    "- `b` -- create a new, blank cell *below* the current one\n",
    "- `m` -- set the cell to be for Markdown-formatted text, which is turned into HTML (that's what I'm using now)\n",
    "- `y` -- set the cell to be for Python code\n",
    "\n",
    "When I'm done with a cell, I can press shift+ENTER. That will \"execute the cell:\n",
    "\n",
    "- If it contains Python code, the code will run\n",
    "- If it contains Markdown, the text will be formatted."
   ]
  },
  {
   "cell_type": "markdown",
   "metadata": {},
   "source": [
    "# Let's run some Python code!\n",
    "\n",
    "The first function (verb) we're going to learn is `print`. When you use the `print` function, you display something on the screen. \n",
    "\n",
    "- Functions are the verbs of a programming language. They do things.\n",
    "- In order to actually make the function run (\"execute\" or \"call\" the function), you need to use `()`. No parentheses? No execution of the function.\n",
    "- Inside of the parentheses, we put the values that we want to display on the screen. `print` knows how to do that with any kind of value you want.\n",
    "- In a Python cell, we can use `#` to start comments. Those start wherever the `#` is and go to the end of the line."
   ]
  },
  {
   "cell_type": "code",
   "execution_count": 1,
   "metadata": {},
   "outputs": [
    {
     "name": "stdout",
     "output_type": "stream",
     "text": [
      "Hello!\n"
     ]
    }
   ],
   "source": [
    "# here, I'm going to print the text 'Hello!'\n",
    "# I'm writing comments; Python ignores these completely.\n",
    "# If I want to print text, it must be in '' or \"\". Python doesn't care which you use, so long as you're consistent\n",
    "\n",
    "print('Hello!')"
   ]
  },
  {
   "cell_type": "code",
   "execution_count": 2,
   "metadata": {},
   "outputs": [
    {
     "name": "stdout",
     "output_type": "stream",
     "text": [
      "10\n"
     ]
    }
   ],
   "source": [
    "# I can also print numbers!\n",
    "\n",
    "print(10)"
   ]
  },
  {
   "cell_type": "code",
   "execution_count": 3,
   "metadata": {},
   "outputs": [
    {
     "name": "stdout",
     "output_type": "stream",
     "text": [
      "13\n"
     ]
    }
   ],
   "source": [
    "# I can even do some simple math calculations!\n",
    "\n",
    "print(10 + 3)   # print only sees the final value, after 10+3 has been evaluated. It doesn't know we asked to add things"
   ]
  },
  {
   "cell_type": "markdown",
   "metadata": {},
   "source": [
    "An \"expression\" is code that, when we run it, gives us a value back. We most often think of expressions as the result of a math operation, but it doesn't have to be that."
   ]
  },
  {
   "cell_type": "code",
   "execution_count": 4,
   "metadata": {},
   "outputs": [
    {
     "name": "stdout",
     "output_type": "stream",
     "text": [
      "abcdefgh\n"
     ]
    }
   ],
   "source": [
    "# can I use + on text?\n",
    "\n",
    "print('abcd' + 'efgh')"
   ]
  },
  {
   "cell_type": "code",
   "execution_count": 5,
   "metadata": {},
   "outputs": [
    {
     "name": "stdout",
     "output_type": "stream",
     "text": [
      "103\n"
     ]
    }
   ],
   "source": [
    "# what if I have digits in my text?\n",
    "\n",
    "print('10' + '3')"
   ]
  },
  {
   "cell_type": "markdown",
   "metadata": {},
   "source": [
    "The above worked because we gave Python two text strings, each in `''`. It combined the text using text rules, not number rules."
   ]
  },
  {
   "cell_type": "code",
   "execution_count": 6,
   "metadata": {},
   "outputs": [
    {
     "ename": "TypeError",
     "evalue": "unsupported operand type(s) for +: 'int' and 'str'",
     "output_type": "error",
     "traceback": [
      "\u001b[31m---------------------------------------------------------------------------\u001b[39m",
      "\u001b[31mTypeError\u001b[39m                                 Traceback (most recent call last)",
      "\u001b[36mCell\u001b[39m\u001b[36m \u001b[39m\u001b[32mIn[6]\u001b[39m\u001b[32m, line 3\u001b[39m\n\u001b[32m      1\u001b[39m \u001b[38;5;66;03m# what if we try to add text and a number together?\u001b[39;00m\n\u001b[32m----> \u001b[39m\u001b[32m3\u001b[39m \u001b[38;5;28mprint\u001b[39m(\u001b[32;43m10\u001b[39;49m\u001b[43m \u001b[49m\u001b[43m+\u001b[49m\u001b[43m \u001b[49m\u001b[33;43m'\u001b[39;49m\u001b[33;43m3\u001b[39;49m\u001b[33;43m'\u001b[39;49m)   \n\u001b[32m      5\u001b[39m \u001b[38;5;66;03m# (1) Python might treat both as text, and give us '103'\u001b[39;00m\n\u001b[32m      6\u001b[39m \u001b[38;5;66;03m# (2) Python might treat both as numbers, and give us 13\u001b[39;00m\n\u001b[32m      7\u001b[39m \u001b[38;5;66;03m# (3) Something else?\u001b[39;00m\n",
      "\u001b[31mTypeError\u001b[39m: unsupported operand type(s) for +: 'int' and 'str'"
     ]
    }
   ],
   "source": [
    "# what if we try to add text and a number together?\n",
    "\n",
    "print(10 + '3')   \n",
    "\n",
    "# (1) Python might treat both as text, and give us '103'\n",
    "# (2) Python might treat both as numbers, and give us 13\n",
    "# (3) Something else?"
   ]
  },
  {
   "cell_type": "markdown",
   "metadata": {},
   "source": [
    "# Values\n",
    "\n",
    "So far, we've seen that we use values (nouns) in Python. Each value has a different type:\n",
    "\n",
    "- Whole numbers, made just of digits, which are known as integer (`int`) in Python\n",
    "- Text, containing anything inside of `''` or `\"\"`, which are known as strings (`str`) in Python\n",
    "\n",
    "Right now, we can display any message we want... but it's kind of boring. Also, we have to repeat any value we want to use more than once. That's also a problem.\n",
    "\n",
    "A solution: Variables!"
   ]
  },
  {
   "cell_type": "markdown",
   "metadata": {},
   "source": [
    "# Variables\n",
    "\n",
    "If values in a programming language are nouns, then variables in a language are pronouns, referring to values.\n",
    "\n",
    "We can use a variable to store a value and then refer to it later on. This has a bunch of advantages:\n",
    "\n",
    "- We can refer to it, especially if it's big, with a short name\n",
    "- The name can be meaningful to us and to others, making it easier to understand/debug the program\n",
    "\n",
    "We can assign to a variable with the `=`, aka the \"assignment operator.\""
   ]
  },
  {
   "cell_type": "code",
   "execution_count": null,
   "metadata": {},
   "outputs": [],
   "source": [
    "x = 10   # this assigns the integer 10 to x\n",
    "y"
   ]
  }
 ],
 "metadata": {
  "kernelspec": {
   "display_name": "Python 3 (ipykernel)",
   "language": "python",
   "name": "python3"
  },
  "language_info": {
   "codemirror_mode": {
    "name": "ipython",
    "version": 3
   },
   "file_extension": ".py",
   "mimetype": "text/x-python",
   "name": "python",
   "nbconvert_exporter": "python",
   "pygments_lexer": "ipython3",
   "version": "3.13.5"
  }
 },
 "nbformat": 4,
 "nbformat_minor": 4
}
