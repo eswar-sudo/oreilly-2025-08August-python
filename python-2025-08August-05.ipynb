{
 "cells": [
  {
   "cell_type": "markdown",
   "metadata": {},
   "source": [
    "# Agenda\n",
    "\n",
    "1. Fundamentals and core concepts\n",
    "    - What is a programming language?\n",
    "    - Values and variables\n",
    "    - Assignment to variables\n",
    "    - Displaying values on the screen with `print`\n",
    "    - Getting input from the user with `input`\n",
    "    - Comparison operators -- are things the same?\n",
    "    - Making decisions with `if`\n",
    "    - Numbers in Python (`int` and `float`)\n",
    "    - Text in Python (`str`)\n",
    "    - Methods -- what are they, and how can we use them with strings?\n",
    "2. Loops, lists, and tuples\n",
    "    - Repeating ourselves with loops\n",
    "    - The \"list\" data structure -- what it does\n",
    "    - Converting from strings to lists (and back)\n",
    "    - Tuples -- what are they, and how do they fit into things?\n",
    "    - Tuple unpacking\n",
    "3. Dictionaries and files\n",
    "    - Dicts -- what are they, how do we use them?\n",
    "    - Files -- reading from them and (a little) writing to them\n",
    "4. Functions\n",
    "    - Defining functions\n",
    "    - Invoking functions\n",
    "    - Arguments and parameters\n",
    "    - Return values\n",
    "    - Local vs. global variables\n",
    "5. Modules and packages\n",
    "    - Using code that others have provided\n",
    "    - Providing code to others\n",
    "    - Python standard library\n",
    "    - PyPI and third-party modules"
   ]
  },
  {
   "cell_type": "markdown",
   "metadata": {},
   "source": [
    "# What is a programming language? What is Python?\n",
    "\n",
    "When computers were invented, people would build a new, separate computer for every problem they had to solve. That was time consuming and expensive! At some point, they decided to create general-purpose computers that could solve many problems. The way that such a computer could solve different problems was by writing *software*. In those days, you would write the 1s and 0s (\"binary code\") that the computer can use for instructions.\n",
    "\n",
    "Pretty quickly, people decided that it would be better for us to write in a \"higher-level\" programming language, and convert that language into 1s and 0s. There are many, *many* programming languages out there.\n",
    "\n",
    "- C -- executes very quickly, because even though it's a higher-level language than 1s and 0s, it's still very tied to hardware and how it works. C is thus very hard to learn and often hard to use, but when you get things working, it runs very fast.\n",
    "- C++ -- C with object-oriented facilities for organizing your code in a modern way, using \"objects.\" C++ is a very, *very* complex language, far more even than C.\n",
    "- Java -- tries to remove some of the hardware thinking from programming, and is higher level. Java requires that you know how to use objects, and that can be complicated.\n",
    "- C# -- Microsoft's version of Java.\n",
    "- Python -- very high level language. It's not intended to execute super fast. It's intended to be easy to learn, consistent, and easy to read/debug.\n",
    "\n",
    "Python has been around for more than 30 years! But only in the last decade has it really taken off. \n",
    "\n",
    "Python is a perfect language for an age in which computers are cheap and people are expensive.\n",
    "\n",
    "Python code might not execute super fast, but it makes you very productive, which means that it's a good investment for many companies (for many individuals, too!).\n",
    "\n",
    "Python has become very popular in a number of domains:\n",
    "\n",
    "- Machine learning and AI\n",
    "- Data analysis\n",
    "- Devops\n",
    "- Web applications\n",
    "- API servers/clients\n",
    "- Education\n",
    "- Testing and automation\n",
    "\n",
    "Just because it's an easy language doesn't mean programming is always easy!\n",
    "\n",
    "Climbing two ladders at the same time when you're learning to program:\n",
    "- Concepts and ideas of programming\n",
    "- Syntax of a language (Python, in this case)"
   ]
  },
  {
   "cell_type": "markdown",
   "metadata": {},
   "source": [
    "# Jupyter\n",
    "\n",
    "If you're going to write Python code, you need (a) a place to write/edit it and (b) a place to execute it. You can use a traditional editor or IDE (integrated development environment) to do all of this.\n",
    "\n",
    "A number of programmers set up Jupyter, which gives you the illusion of writing Python in your browser.\n",
    "\n",
    "If you want to set up Jupyter on your computer, you can!\n",
    "\n",
    "If you want to use an IDE, you can!\n",
    "\n",
    "BUT if you don't want to install anything, you can just use Jupyter Lite. In that case, both Jupyter and Python run INSIDE OF YOUR BROWSER.\n",
    "\n"
   ]
  },
  {
   "cell_type": "code",
   "execution_count": null,
   "metadata": {},
   "outputs": [],
   "source": []
  }
 ],
 "metadata": {
  "kernelspec": {
   "display_name": "Python 3 (ipykernel)",
   "language": "python",
   "name": "python3"
  },
  "language_info": {
   "codemirror_mode": {
    "name": "ipython",
    "version": 3
   },
   "file_extension": ".py",
   "mimetype": "text/x-python",
   "name": "python",
   "nbconvert_exporter": "python",
   "pygments_lexer": "ipython3",
   "version": "3.13.5"
  }
 },
 "nbformat": 4,
 "nbformat_minor": 4
}
