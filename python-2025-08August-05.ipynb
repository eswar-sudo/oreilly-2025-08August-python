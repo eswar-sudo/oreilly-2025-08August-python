{
 "cells": [
  {
   "cell_type": "markdown",
   "metadata": {},
   "source": [
    "# Agenda\n",
    "\n",
    "1. Fundamentals and core concepts\n",
    "    - What is a programming language?\n",
    "    - Values and variables\n",
    "    - Assignment to variables\n",
    "    - Displaying values on the screen with `print`\n",
    "    - Getting input from the user with `input`\n",
    "    - Comparison operators -- are things the same?\n",
    "    - Making decisions with `if`\n",
    "    - Numbers in Python (`int` and `float`)\n",
    "    - Text in Python (`str`)\n",
    "    - Methods -- what are they, and how can we use them with strings?\n",
    "2. Loops, lists, and tuples\n",
    "    - Repeating ourselves with loops\n",
    "    - The \"list\" data structure -- what it does\n",
    "    - Converting from strings to lists (and back)\n",
    "    - Tuples -- what are they, and how do they fit into things?\n",
    "    - Tuple unpacking\n",
    "3. Dictionaries and files\n",
    "    - Dicts -- what are they, how do we use them?\n",
    "    - Files -- reading from them and (a little) writing to them\n",
    "4. Functions\n",
    "    - Defining functions\n",
    "    - "
   ]
  },
  {
   "cell_type": "code",
   "execution_count": null,
   "metadata": {},
   "outputs": [],
   "source": []
  }
 ],
 "metadata": {
  "kernelspec": {
   "display_name": "Python 3 (ipykernel)",
   "language": "python",
   "name": "python3"
  },
  "language_info": {
   "codemirror_mode": {
    "name": "ipython",
    "version": 3
   },
   "file_extension": ".py",
   "mimetype": "text/x-python",
   "name": "python",
   "nbconvert_exporter": "python",
   "pygments_lexer": "ipython3",
   "version": "3.13.5"
  }
 },
 "nbformat": 4,
 "nbformat_minor": 4
}
