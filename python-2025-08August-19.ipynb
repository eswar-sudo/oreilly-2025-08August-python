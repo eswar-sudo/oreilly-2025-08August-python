{
 "cells": [
  {
   "cell_type": "markdown",
   "metadata": {},
   "source": [
    "# Agenda, week 3:\n",
    "\n",
    "1. Q&A\n",
    "2. Dictionaries\n",
    "    - What they are?\n",
    "    - How to create them\n",
    "    - How to work with them\n",
    "    - How to iterate over dicts\n",
    "    - How dictionaries are implemented behind the scenes\n",
    "    - Three paradigms for dictionary use\n",
    "2. Files\n",
    "    - How to work with files - -opening them and reading from them\n",
    "    - How to take data in a file and turn it into Python data structures\n",
    "    - How to write to files\n",
    "    - The `with` construct, and why it's important when writing to files"
   ]
  },
  {
   "cell_type": "markdown",
   "metadata": {},
   "source": [
    "# Where do we stand?\n",
    "\n",
    "- Python uses lots of values, and each value has a different type\n",
    "- We can assign these values to variables, and then reuse them\n",
    "- The data structures we've used so far have been:\n",
    "    - Integers and floats (numbers)\n",
    "    - Strings (for text)\n",
    "    - Lists and tuples (for sequences of values)\n",
    "\n",
    "Many times, we don't want one piece of data. Many times, we want multiple pieces of data together, to be associated with one another.\n",
    "\n",
    "Dictionaries are a very high speed, easy to work with, and flexible data structure that takes care of one of the most important and common ways that we want to combine data, and that is a name-value pair or a key-value pair."
   ]
  },
  {
   "cell_type": "markdown",
   "metadata": {},
   "source": [
    "# What is a dictionary?\n",
    "\n",
    "What we call a dictionary in Python (or a `dict`) is not new to Python. It's in many programming langauges, but usually with other names:\n",
    "\n",
    "- Hash tables\n",
    "- Hashes\n",
    "- Hash maps\n",
    "- Maps\n",
    "- Key-value stores\n",
    "- Name-value stores\n",
    "- Associative arrays\n",
    "\n",
    "The basic idea is that we have *pairs* of data, not just individual values. In a dict, we have control over not only the values, but also the keys (i.e., the indexes) that we use to retrieve them. In this way, we can have a key-value pair that isn't a random integer that just happened to be assigned to it. We can control it.\n",
    "\n"
   ]
  },
  {
   "cell_type": "code",
   "execution_count": 1,
   "metadata": {},
   "outputs": [
    {
     "name": "stdout",
     "output_type": "stream",
     "text": [
      "The history saving thread hit an unexpected error (OperationalError('attempt to write a readonly database')).History will not be written to the database.\n"
     ]
    }
   ],
   "source": [
    "# use curly braces to create a dict\n",
    "# each key-value pair in a dict has key:value syntax\n",
    "# each pair is separated from other pairs with ,\n",
    "\n",
    "d = {}   # empty dictionary"
   ]
  },
  {
   "cell_type": "code",
   "execution_count": null,
   "metadata": {},
   "outputs": [],
   "source": []
  }
 ],
 "metadata": {
  "kernelspec": {
   "display_name": "Python 3 (ipykernel)",
   "language": "python",
   "name": "python3"
  },
  "language_info": {
   "codemirror_mode": {
    "name": "ipython",
    "version": 3
   },
   "file_extension": ".py",
   "mimetype": "text/x-python",
   "name": "python",
   "nbconvert_exporter": "python",
   "pygments_lexer": "ipython3",
   "version": "3.13.5"
  },
  "widgets": {
   "application/vnd.jupyter.widget-state+json": {
    "state": {},
    "version_major": 2,
    "version_minor": 0
   }
  }
 },
 "nbformat": 4,
 "nbformat_minor": 4
}
