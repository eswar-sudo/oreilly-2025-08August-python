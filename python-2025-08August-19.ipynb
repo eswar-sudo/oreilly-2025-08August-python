{
 "cells": [
  {
   "cell_type": "markdown",
   "metadata": {},
   "source": [
    "# Agenda, week 3:\n",
    "\n",
    "1. Q&A\n",
    "2. Dictionaries\n",
    "    - What they are?\n",
    "    - How to create them\n",
    "    - How to work with them\n",
    "    - How to iterate over dicts\n",
    "    - How dictionaries are implemented behind the scenes\n",
    "    - Three paradigms for dictionary use\n",
    "2. Files\n",
    "    - How to work with files - -opening them and reading from them\n",
    "    - How to take data in a file and turn it into Python data structures\n",
    "    - How to write to files\n",
    "    - The `with` construct, and why it's important when writing to files"
   ]
  },
  {
   "cell_type": "code",
   "execution_count": null,
   "metadata": {},
   "outputs": [],
   "source": []
  }
 ],
 "metadata": {
  "kernelspec": {
   "display_name": "Python 3 (ipykernel)",
   "language": "python",
   "name": "python3"
  },
  "language_info": {
   "codemirror_mode": {
    "name": "ipython",
    "version": 3
   },
   "file_extension": ".py",
   "mimetype": "text/x-python",
   "name": "python",
   "nbconvert_exporter": "python",
   "pygments_lexer": "ipython3",
   "version": "3.13.5"
  },
  "widgets": {
   "application/vnd.jupyter.widget-state+json": {
    "state": {},
    "version_major": 2,
    "version_minor": 0
   }
  }
 },
 "nbformat": 4,
 "nbformat_minor": 4
}
