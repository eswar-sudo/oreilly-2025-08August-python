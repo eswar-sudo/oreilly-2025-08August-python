{
 "cells": [
  {
   "cell_type": "markdown",
   "metadata": {},
   "source": [
    "# Agenda, week 3:\n",
    "\n",
    "1. Q&A\n",
    "2. Dictionaries\n",
    "    - What they are?\n",
    "    - How to create them\n",
    "    - How to work with them\n",
    "    - How to iterate over dicts\n",
    "    - How dictionaries are implemented behind the scenes\n",
    "    - Three paradigms for dictionary use\n",
    "2. Files\n",
    "    - How to work with files - -opening them and reading from them\n",
    "    - How to take data in a file and turn it into Python data structures\n",
    "    - How to write to files\n",
    "    - The `with` construct, and why it's important when writing to files"
   ]
  },
  {
   "cell_type": "markdown",
   "metadata": {},
   "source": [
    "# Where do we stand?\n",
    "\n",
    "- Python uses lots of values, and each value has a different type\n",
    "- We can assign these values to variables, and then reuse them\n",
    "- The data structures we've used so far have been:\n",
    "    - Integers and floats (numbers)\n",
    "    - Strings (for text)\n",
    "    - Lists and tuples (for sequences of values)\n",
    "\n",
    "Many times, we don't want one piece of data. Many times, we want multiple pieces of data together, to be associated with one another.\n",
    "\n",
    "Dictionaries are a very high speed, easy to work with, and flexible data structure that takes care of one of the most important and common ways that we want to combine data, and that is a name-value pair or a key-value pair."
   ]
  },
  {
   "cell_type": "markdown",
   "metadata": {},
   "source": [
    "# What is a dictionary?\n",
    "\n",
    "What we call a dictionary in Python (or a `dict`) is not new to Python. It's in many programming langauges, but usually with other names:\n",
    "\n",
    "- Hash tables\n",
    "- Hashes\n",
    "- Hash maps\n",
    "- Maps\n",
    "- Key-value stores\n",
    "- Name-value stores\n",
    "- Associative arrays\n",
    "\n",
    "The basic idea is that we have *pairs* of data, not just individual values. In a dict, we have control over not only the values, but also the keys (i.e., the indexes) that we use to retrieve them. In this way, we can have a key-value pair that isn't a random integer that just happened to be assigned to it. We can control it.\n",
    "\n"
   ]
  },
  {
   "cell_type": "code",
   "execution_count": 2,
   "metadata": {},
   "outputs": [],
   "source": [
    "# use curly braces to create a dict\n",
    "# each key-value pair in a dict has key:value syntax\n",
    "# each pair is separated from other pairs with ,\n",
    "\n",
    "d = {}   # empty dictionary"
   ]
  },
  {
   "cell_type": "code",
   "execution_count": 3,
   "metadata": {},
   "outputs": [],
   "source": [
    "d = {'a':10, 'b':20, 'c':30}  # dict with three key-value pairs"
   ]
  },
  {
   "cell_type": "code",
   "execution_count": 4,
   "metadata": {},
   "outputs": [
    {
     "data": {
      "text/plain": [
       "3"
      ]
     },
     "execution_count": 4,
     "metadata": {},
     "output_type": "execute_result"
    }
   ],
   "source": [
    "# how many key-value pairs are in d?\n",
    "\n",
    "len(d)    # how many pairs"
   ]
  },
  {
   "cell_type": "markdown",
   "metadata": {},
   "source": [
    "# Rules for dict keys and values\n",
    "\n",
    "### Keys\n",
    "\n",
    "- They can be anything at all, so long as they are immutable -- which basically means numbers and strings.\n",
    "- In a given dict, the keys must be unique.\n",
    "- Every key has a value, and every value has a key.\n",
    "\n",
    "### Values\n",
    "\n",
    "- Every value in a dict can be absolutely anything you want -- any type, any repetition, anything at all"
   ]
  },
  {
   "cell_type": "code",
   "execution_count": 5,
   "metadata": {},
   "outputs": [
    {
     "data": {
      "text/plain": [
       "10"
      ]
     },
     "execution_count": 5,
     "metadata": {},
     "output_type": "execute_result"
    }
   ],
   "source": [
    "# how can I retrieve a value via a key?\n",
    "\n",
    "d['a']   # just like I retrieve from a list/tuple/string, I retrieve from a dict with []"
   ]
  },
  {
   "cell_type": "code",
   "execution_count": 6,
   "metadata": {},
   "outputs": [
    {
     "data": {
      "text/plain": [
       "20"
      ]
     },
     "execution_count": 6,
     "metadata": {},
     "output_type": "execute_result"
    }
   ],
   "source": [
    "d['b']"
   ]
  },
  {
   "cell_type": "code",
   "execution_count": 7,
   "metadata": {},
   "outputs": [
    {
     "data": {
      "text/plain": [
       "30"
      ]
     },
     "execution_count": 7,
     "metadata": {},
     "output_type": "execute_result"
    }
   ],
   "source": [
    "d['c']"
   ]
  },
  {
   "cell_type": "code",
   "execution_count": 8,
   "metadata": {},
   "outputs": [
    {
     "ename": "KeyError",
     "evalue": "'a '",
     "output_type": "error",
     "traceback": [
      "\u001b[0;31m---------------------------------------------------------------------------\u001b[0m",
      "\u001b[0;31mKeyError\u001b[0m                                  Traceback (most recent call last)",
      "Cell \u001b[0;32mIn[8], line 3\u001b[0m\n\u001b[1;32m      1\u001b[0m \u001b[38;5;66;03m# if I change the key's string even a little...\u001b[39;00m\n\u001b[0;32m----> 3\u001b[0m \u001b[43md\u001b[49m\u001b[43m[\u001b[49m\u001b[38;5;124;43m'\u001b[39;49m\u001b[38;5;124;43ma \u001b[39;49m\u001b[38;5;124;43m'\u001b[39;49m\u001b[43m]\u001b[49m\n",
      "\u001b[0;31mKeyError\u001b[0m: 'a '"
     ]
    }
   ],
   "source": [
    "# if I change the key's string even a little...\n",
    "\n",
    "d['a ']"
   ]
  },
  {
   "cell_type": "code",
   "execution_count": 9,
   "metadata": {},
   "outputs": [
    {
     "data": {
      "text/plain": [
       "True"
      ]
     },
     "execution_count": 9,
     "metadata": {},
     "output_type": "execute_result"
    }
   ],
   "source": [
    "# how can I avoid that? How can I make sure that if I'm asking for a key, it exists?\n",
    "# I can use the \"in\" operator, which returns True if a key is in the dict\n",
    "\n",
    "'a' in d   # is 'a' a key in the dict d?"
   ]
  },
  {
   "cell_type": "code",
   "execution_count": 10,
   "metadata": {},
   "outputs": [
    {
     "data": {
      "text/plain": [
       "False"
      ]
     },
     "execution_count": 10,
     "metadata": {},
     "output_type": "execute_result"
    }
   ],
   "source": [
    "'a ' in d"
   ]
  },
  {
   "cell_type": "markdown",
   "metadata": {},
   "source": [
    "You can get a value from the key. But you cannot get the key back from the value!\n",
    "\n",
    "That's partly because of how dicts are designed, and partly because values can repeat, but keys cannot.\n"
   ]
  },
  {
   "cell_type": "code",
   "execution_count": 11,
   "metadata": {},
   "outputs": [
    {
     "data": {
      "text/plain": [
       "True"
      ]
     },
     "execution_count": 11,
     "metadata": {},
     "output_type": "execute_result"
    }
   ],
   "source": [
    "# can I use variables as the keys?\n",
    "# of course!\n",
    "\n",
    "k = 'a'\n",
    "\n",
    "k in d"
   ]
  },
  {
   "cell_type": "code",
   "execution_count": 12,
   "metadata": {},
   "outputs": [
    {
     "data": {
      "text/plain": [
       "10"
      ]
     },
     "execution_count": 12,
     "metadata": {},
     "output_type": "execute_result"
    }
   ],
   "source": [
    "d[k]"
   ]
  },
  {
   "cell_type": "markdown",
   "metadata": {},
   "source": [
    "# Where are dicts useful?\n",
    "\n",
    "There are many places where we have key-value pairs in Python. Consider:\n",
    "\n",
    "- A dict whose keys are the names of months (as strings) and whose values are the numbers (1-12)\n",
    "- A dict whose keys are the numbers of months (1-12) and whose values are the names (as strings)\n",
    "- A dict whose keys are user ID numbers and whose values are usernames\n",
    "- A dict whose keys are user ID numbers and whose values are tuples with user info"
   ]
  },
  {
   "cell_type": "markdown",
   "metadata": {},
   "source": [
    "# Exercise: Restaurant\n",
    "\n",
    "1. Define a dict, `menu`, in which the keys are strings -- items on a menu at a restaurant. The associated values should be the prices for those menu items.\n",
    "2. Define `total` to be 0.\n",
    "3. Ask the user, repeatedly, to order something from the menu.\n",
    "    - If the user entered an empty string, that indicates they no longer want to order. Break them out of this loop, and print `total`.\n",
    "    - If the user entered a string, and that string is something on our menu (i.e., a key in our dict), then add the price to `total`,  and print the `total` on the screen, along with the item and its price.\n",
    "    - If the string is *not* a key in `menu`, then scold the user and let them order something else.\n",
    "4. Print `total`\n",
    "\n",
    "Example:\n",
    "\n",
    "    Order: sandwich\n",
    "    sandwich is 15, total is 15\n",
    "    Order: tea\n",
    "    tea is 7, total is 22\n",
    "    Order: elephant\n",
    "    Sorry, we're fresh out of elephant today!\n",
    "    Order: [ENTER]\n",
    "    Your total is 22"
   ]
  },
  {
   "cell_type": "code",
   "execution_count": 13,
   "metadata": {},
   "outputs": [
    {
     "name": "stdin",
     "output_type": "stream",
     "text": [
      "Order:  sandwich\n"
     ]
    },
    {
     "name": "stdout",
     "output_type": "stream",
     "text": [
      "sandwich is 15, total is now 15\n"
     ]
    },
    {
     "name": "stdin",
     "output_type": "stream",
     "text": [
      "Order:  tea\n"
     ]
    },
    {
     "name": "stdout",
     "output_type": "stream",
     "text": [
      "tea is 7, total is now 22\n"
     ]
    },
    {
     "name": "stdin",
     "output_type": "stream",
     "text": [
      "Order:  hot dog\n"
     ]
    },
    {
     "name": "stdout",
     "output_type": "stream",
     "text": [
      "Sorry, we are fresh out of hot dog today!\n"
     ]
    },
    {
     "name": "stdin",
     "output_type": "stream",
     "text": [
      "Order:  \n"
     ]
    },
    {
     "name": "stdout",
     "output_type": "stream",
     "text": [
      "22\n"
     ]
    }
   ],
   "source": [
    "menu = {'sandwich':15, 'tea':7, 'apple':4, 'cake':8}\n",
    "total = 0\n",
    "\n",
    "while True:\n",
    "    order = input('Order: ').strip()\n",
    "\n",
    "    if order == '':   # the user indicated that we want to stop asking\n",
    "        break\n",
    "\n",
    "    if order in menu:  \n",
    "        price = menu[order]    # get the value for the key \"order\" in menu\n",
    "        total += price\n",
    "        print(f'{order} is {price}, total is now {total}')\n",
    "    else:\n",
    "        print(f'Sorry, we are fresh out of {order} today!')\n",
    "\n",
    "print(total)        "
   ]
  },
  {
   "cell_type": "code",
   "execution_count": 14,
   "metadata": {},
   "outputs": [
    {
     "name": "stdout",
     "output_type": "stream",
     "text": [
      "15\n"
     ]
    }
   ],
   "source": [
    "order = 'sandwich'\n",
    "print(menu[order])"
   ]
  },
  {
   "cell_type": "markdown",
   "metadata": {},
   "source": [
    "# Are dictionaries mutable?\n",
    "\n",
    "Yes! Absolutely!\n",
    "\n",
    "What does it mean for something to be mutable? When it comes to a list, we found:\n",
    "\n",
    "- We can replace existing values\n",
    "- We can add new elements to a list\n",
    "- We can remove existing elements from a list\n",
    "\n",
    "For a dict to be mutable, we would need to be able to:\n",
    "\n",
    "- Replace existing values for a given key\n",
    "- Add new key-value pairs\n",
    "- Remove existing key-value pairs\n",
    "\n",
    "We can do all three of these!"
   ]
  },
  {
   "cell_type": "code",
   "execution_count": 15,
   "metadata": {},
   "outputs": [
    {
     "data": {
      "text/plain": [
       "{'a': 10, 'b': 999, 'c': 30}"
      ]
     },
     "execution_count": 15,
     "metadata": {},
     "output_type": "execute_result"
    }
   ],
   "source": [
    "d = {'a':10, 'b':20, 'c':30}\n",
    "\n",
    "# how can I replace an existing value in a dict?\n",
    "# answer: assign a new value to the key\n",
    "\n",
    "d['b'] = 999\n",
    "d"
   ]
  },
  {
   "cell_type": "code",
   "execution_count": 16,
   "metadata": {},
   "outputs": [
    {
     "data": {
      "text/plain": [
       "{'a': 10, 'b': 999, 'c': 31}"
      ]
     },
     "execution_count": 16,
     "metadata": {},
     "output_type": "execute_result"
    }
   ],
   "source": [
    "# I want to increment the value of 'c' by 1\n",
    "\n",
    "d['c'] += 1   # the same as saying d['c'] = d['c'] + 1\n",
    "d"
   ]
  },
  {
   "cell_type": "code",
   "execution_count": 17,
   "metadata": {},
   "outputs": [
    {
     "data": {
      "text/plain": [
       "{'a': 10, 'b': 999, 'c': 31}"
      ]
     },
     "execution_count": 17,
     "metadata": {},
     "output_type": "execute_result"
    }
   ],
   "source": [
    "# how can I add a new key-value pair to my dict?\n",
    "# answer: assign a new value to the key\n",
    "# it's exactly the same syntax as we had for updating a value!\n",
    "\n",
    "# if the key already exists, then we replace its value. But if the key is new, then we add a new key-value pair\n",
    "\n",
    "d"
   ]
  },
  {
   "cell_type": "code",
   "execution_count": 18,
   "metadata": {},
   "outputs": [
    {
     "data": {
      "text/plain": [
       "{'a': 10, 'b': 999, 'c': 31, 'x': 888}"
      ]
     },
     "execution_count": 18,
     "metadata": {},
     "output_type": "execute_result"
    }
   ],
   "source": [
    "d['x'] = 888\n",
    "d"
   ]
  },
  {
   "cell_type": "code",
   "execution_count": 19,
   "metadata": {},
   "outputs": [
    {
     "data": {
      "text/plain": [
       "{'a': 10, 'b': 999, 'c': 31, 'x': 889}"
      ]
     },
     "execution_count": 19,
     "metadata": {},
     "output_type": "execute_result"
    }
   ],
   "source": [
    "d['x'] += 1\n",
    "d"
   ]
  },
  {
   "cell_type": "code",
   "execution_count": 20,
   "metadata": {},
   "outputs": [
    {
     "data": {
      "text/plain": [
       "889"
      ]
     },
     "execution_count": 20,
     "metadata": {},
     "output_type": "execute_result"
    }
   ],
   "source": [
    "# what about removing key-value pairs?\n",
    "\n",
    "d.pop('x')  # this means: remove the key-value pair with a key 'x', and return the value associated with it"
   ]
  },
  {
   "cell_type": "code",
   "execution_count": 21,
   "metadata": {},
   "outputs": [
    {
     "data": {
      "text/plain": [
       "{'a': 10, 'b': 999, 'c': 31}"
      ]
     },
     "execution_count": 21,
     "metadata": {},
     "output_type": "execute_result"
    }
   ],
   "source": [
    "d"
   ]
  },
  {
   "cell_type": "markdown",
   "metadata": {},
   "source": [
    "# Accumulating with dicts\n",
    "\n",
    "We've seen in previous weeks that we can use lists to accumulate values over time. We can use dicts in similar ways. Very often, we'll start a program with an initial dict whose keys are set, and will not change, but whose values are empty -- 0, an empty list, or the like. In this way, our dict can over time accumulate data, but it can do that in a more sophisticated way than a list."
   ]
  },
  {
   "cell_type": "markdown",
   "metadata": {},
   "source": [
    "# Exercise: Vowels, digits, and others (dict edition)\n",
    "\n",
    "1. Define a dict, `counts`, with three keys -- `vowels`, `digits`, and `others`. Their values should all be 0.\n",
    "2. Ask the user to enter a string.\n",
    "3. Go through the string, one character at a time.\n",
    "    - If the character is a vowel, add 1 to the count for `vowels`\n",
    "    - If the character is a digit, add 1 to the count for `digits`\n",
    "    - If the character is neither, add 1 to the count for `others`\n",
    "4. Print `counts`"
   ]
  },
  {
   "cell_type": "code",
   "execution_count": 28,
   "metadata": {},
   "outputs": [
    {
     "name": "stdin",
     "output_type": "stream",
     "text": [
      "Enter text:  THIS IS GREAT\n"
     ]
    },
    {
     "name": "stdout",
     "output_type": "stream",
     "text": [
      "{'vowels': 4, 'digits': 0, 'others': 9}\n"
     ]
    }
   ],
   "source": [
    "counts = {'vowels':0,\n",
    "          'digits':0,\n",
    "          'others':0}\n",
    "vowels = 'aeiou'\n",
    "\n",
    "text = input('Enter text: ').strip()\n",
    "\n",
    "for one_character in text.lower():\n",
    "    if one_character in vowels:     # if one_character is a vowel...\n",
    "        counts['vowels'] += 1       # ... update the value of counts['vowels'] with 1 + the current value\n",
    "    elif one_character.isdigit():   # if one_character is a digit...\n",
    "        counts['digits'] += 1       #  .... update the value of counts['digits'] with 1 + the current value\n",
    "    else:\n",
    "        counts['others'] += 1       # in all other cases, add 1 to counts['others']\n",
    "\n",
    "print(counts)"
   ]
  },
  {
   "cell_type": "code",
   "execution_count": 27,
   "metadata": {},
   "outputs": [
    {
     "name": "stdin",
     "output_type": "stream",
     "text": [
      "Enter the character:  hello!! 123\n"
     ]
    },
    {
     "name": "stdout",
     "output_type": "stream",
     "text": [
      "{'vowels': 2, 'digits': 3, 'others': 6}\n"
     ]
    }
   ],
   "source": [
    "# KM\n",
    "\n",
    "counts = {'vowels':0, 'digits':0, 'others':0}\n",
    "\n",
    "word = input('Enter the character: ').strip()\n",
    "\n",
    "for one_character in word:\n",
    "    if one_character in 'aeiou':\n",
    "        counts['vowels'] +=1\n",
    "    \n",
    "    elif one_character.isdigit():\n",
    "        counts['digits'] +=1\n",
    "    \n",
    "    else:\n",
    "        counts['others'] +=1\n",
    "\n",
    "print(counts)"
   ]
  },
  {
   "cell_type": "markdown",
   "metadata": {},
   "source": [
    "# Next up\n",
    "\n",
    "1. Accumulating in another way in our dicts\n",
    "2. Accumulating the unknown\n",
    "3. Iterating over our dicts"
   ]
  },
  {
   "cell_type": "markdown",
   "metadata": {},
   "source": [
    "# Paradigms we've seen so far\n",
    "\n",
    "1. Set up a dict at the start of your program, and treat it as a read-only database.\n",
    "2. Set up a dict with keys and initial values. Over the course of the program, update the values, but don't change/add/remove any of the keys.\n",
    "3. Set up an empty dict, and then accumulate both keys and values."
   ]
  },
  {
   "cell_type": "markdown",
   "metadata": {},
   "source": [
    "# Exercise: Vowels, digits, and others (dict edition, part 2)\n",
    "\n",
    "1. Define a dict, `counts`, with three keys -- `vowels`, `digits`, and `others`. Their values should all be `[]`.\n",
    "2. Ask the user to enter a string.\n",
    "3. Go through the string, one character at a time.\n",
    "    - If the character is a vowel, add `one_character` to the list that is the value for `vowels`\n",
    "    - If the character is a digit, add `one_character` to the list that is the value for `digits`\n",
    "    - If the character is neither, add `one_character` to the list that is the value for `others`\n",
    "4. Print `counts`"
   ]
  },
  {
   "cell_type": "code",
   "execution_count": null,
   "metadata": {},
   "outputs": [],
   "source": []
  }
 ],
 "metadata": {
  "kernelspec": {
   "display_name": "Python 3 (ipykernel)",
   "language": "python",
   "name": "python3"
  },
  "language_info": {
   "codemirror_mode": {
    "name": "ipython",
    "version": 3
   },
   "file_extension": ".py",
   "mimetype": "text/x-python",
   "name": "python",
   "nbconvert_exporter": "python",
   "pygments_lexer": "ipython3",
   "version": "3.13.5"
  },
  "widgets": {
   "application/vnd.jupyter.widget-state+json": {
    "state": {},
    "version_major": 2,
    "version_minor": 0
   }
  }
 },
 "nbformat": 4,
 "nbformat_minor": 4
}
